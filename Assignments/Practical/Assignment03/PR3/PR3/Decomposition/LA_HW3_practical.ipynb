{
 "cells": [
  {
   "cell_type": "markdown",
   "metadata": {
    "id": "9hhIsepSG3o2"
   },
   "source": [
    "<br>\n",
    "<font>\n",
    "<!-- <img src=\"https://cdn.freebiesupply.com/logos/large/2x/sharif-logo-png-transparent.png\" alt=\"SUT logo\" width=300 height=300 align=left class=\"saturate\"> -->\n",
    "<div dir=ltr align=center>\n",
    "<img src=\"https://cdn.freebiesupply.com/logos/large/2x/sharif-logo-png-transparent.png\" width=200 height=200>\n",
    "<br>\n",
    "<font color=0F5298 size=7>\n",
    "Linear Algebra <br>\n",
    "<font color=2565AE size=5>\n",
    "Computer Engineering Department <br>\n",
    "Spring 2024<br>\n",
    "<font color=3C99D size=5>\n",
    "Practical Assignment 3 <br>\n",
    "<font color=3C99D size=5>\n",
    "Diagonalization, Eigenvectors and Decomposition <br>\n",
    "<font color=696880 size=4>\n",
    "<!-- <br> -->\n",
    "Mahdi Alinejad - Mahan Bayhaghi\n",
    "\n",
    "____"
   ]
  },
  {
   "cell_type": "markdown",
   "metadata": {
    "id": "L_yNz5LcG3o4"
   },
   "source": [
    "\n",
    "<h3 style='color: green;'>Purpose</h3>\n",
    "In this notebook, we will explore eigenvalues and eigenvectors, and demonstrate diagonalization of a matrix. We will also compare the performance of computing matrix powers using regular methods versus diagonalization."
   ]
  },
  {
   "cell_type": "markdown",
   "metadata": {
    "id": "rrA_CrJLG3o5"
   },
   "source": [
    "<h3 style='color: green;'>Student Information</h3>"
   ]
  },
  {
   "cell_type": "code",
   "execution_count": 339,
   "metadata": {
    "ExecuteTime": {
     "end_time": "2024-06-20T22:54:03.523856Z",
     "start_time": "2024-06-20T22:54:03.520893Z"
    },
    "id": "SOgJ3WAyG3o6"
   },
   "outputs": [],
   "source": [
    "student_number = '401105561'\n",
    "first_name = 'Moeein'\n",
    "last_name = 'Aali'"
   ]
  },
  {
   "cell_type": "markdown",
   "metadata": {
    "id": "badnPO4GG3o6"
   },
   "source": [
    "<h3 style='color: green;'>Imports</h3>\n",
    "import the necessary libraries."
   ]
  },
  {
   "cell_type": "code",
   "execution_count": 340,
   "metadata": {
    "ExecuteTime": {
     "end_time": "2024-06-20T22:54:03.574734Z",
     "start_time": "2024-06-20T22:54:03.571360Z"
    },
    "id": "YwsqXl1ZG3o7"
   },
   "outputs": [],
   "source": [
    "import numpy as np\n",
    "from IPython.display import display, HTML\n",
    "import matplotlib.pyplot as plt\n",
    "import timeit\n",
    "from sympy import *\n",
    "import math"
   ]
  },
  {
   "cell_type": "markdown",
   "metadata": {
    "id": "1-lWTHrjG3o7"
   },
   "source": [
    "<h3 style='color: green;'>Eigenvalues and Eigenvectors</h3>\n",
    "Eigenvalues and eigenvectors are fundamental concepts in linear algebra. For a given square matrix A, if there is a non-zero vector v such that Av = λv, then λ is called the eigenvalue and v is the corresponding eigenvector."
   ]
  },
  {
   "cell_type": "markdown",
   "metadata": {
    "id": "8Pv6LVjyG3o7"
   },
   "source": [
    "<h3 style='color: green;'>Functions for Eigenvalues and Eigenvectors</h3>\n",
    "We will define functions to compute eigenvalues and eigenvectors."
   ]
  },
  {
   "cell_type": "code",
   "execution_count": 341,
   "metadata": {
    "ExecuteTime": {
     "end_time": "2024-06-20T22:54:03.590103Z",
     "start_time": "2024-06-20T22:54:03.586103Z"
    },
    "id": "OPa2h3rmG3o8"
   },
   "outputs": [],
   "source": [
    "def compute_eigenvalues(A):\n",
    "    a, b, c, d = A[0, 0], A[0, 1], A[1, 0], A[1, 1]\n",
    "    trace = a + d\n",
    "    det = a * d - b * c\n",
    "    return [(trace + math.sqrt(trace**2 - 4 * det)) / 2, (trace - math.sqrt(trace**2 - 4 * det)) / 2]\n",
    "\n",
    "\n",
    "def compute_eigenvector(A, eigenvalue):\n",
    "    a, b, c, d = A[0, 0], A[0, 1], A[1, 0], A[1, 1]\n",
    "    if b != 0:\n",
    "        x = -1\n",
    "        y = (a-eigenvalue)/b\n",
    "    elif c != 0:\n",
    "        y = -1\n",
    "        x = (d-eigenvalue)/c\n",
    "    return np.array([x, y]) / math.sqrt(x**2 + y**2)\n",
    "\n",
    "def compute_eigenvectors(A):\n",
    "    eigenvalues = compute_eigenvalues(A)\n",
    "    return [compute_eigenvector(A, eigenvalues[0]), compute_eigenvector(A, eigenvalues[1])]"
   ]
  },
  {
   "cell_type": "markdown",
   "metadata": {
    "id": "ZuE5YmroG3o9"
   },
   "source": [
    "<h3 style='color: green;'>Visualization of Vectors</h3>\n",
    "We will write a function to visualize vectors in 2D."
   ]
  },
  {
   "cell_type": "code",
   "execution_count": 342,
   "metadata": {
    "ExecuteTime": {
     "end_time": "2024-06-20T22:54:03.615375Z",
     "start_time": "2024-06-20T22:54:03.611231Z"
    },
    "id": "Z-LvcCT0G3o-"
   },
   "outputs": [],
   "source": [
    "def plot_vectors(vectors, colors, labels, title):\n",
    "    plt.figure()\n",
    "    plt.axhline(0, color='gray', lw=0.5)\n",
    "    plt.axvline(0, color='gray', lw=0.5)\n",
    "    plt.grid()\n",
    "    for vector, color, label in zip(vectors, colors, labels):\n",
    "        plt.quiver(0, 0, vector[0], vector[1], angles='xy', scale_units='xy', scale=1, color=color, label=label)\n",
    "    plt.xlim(-1.5, 1.5)\n",
    "    plt.ylim(-1.5, 1.5)\n",
    "    plt.legend()\n",
    "    plt.title(title)\n",
    "    plt.show()\n"
   ]
  },
  {
   "cell_type": "markdown",
   "metadata": {
    "id": "LyDyLZdzG3o-"
   },
   "source": [
    "<h3 style='color: green;'>Example with a Random Matrix</h3>\n",
    "We will generate a random 2D matrix with two independent eigenvectors and visualize them along with a random vector. Then we apply the transformation and plot them again."
   ]
  },
  {
   "cell_type": "markdown",
   "metadata": {
    "id": "fqPc0ACbG3o-"
   },
   "source": [
    "### no need to change the below cells"
   ]
  },
  {
   "cell_type": "code",
   "execution_count": 343,
   "metadata": {
    "ExecuteTime": {
     "end_time": "2024-06-20T22:54:03.630890Z",
     "start_time": "2024-06-20T22:54:03.627383Z"
    },
    "id": "Rde7P4QEG3o-"
   },
   "outputs": [],
   "source": [
    "def generate_valid_matrix():\n",
    "    while True:\n",
    "        A = np.random.rand(2, 2)\n",
    "        eigenvalues = np.linalg.eigvals(A)\n",
    "        if (np.all(np.isreal(eigenvalues)) and\n",
    "            len(set(eigenvalues)) == 2 and\n",
    "            np.all(np.abs(eigenvalues) > 0.33) and\n",
    "            np.all(np.abs(eigenvalues) < 3)):\n",
    "            return A"
   ]
  },
  {
   "cell_type": "code",
   "execution_count": 344,
   "metadata": {
    "ExecuteTime": {
     "end_time": "2024-06-20T22:54:31.221389Z",
     "start_time": "2024-06-20T22:54:31.010845Z"
    },
    "id": "2P47KdsWG3o_",
    "outputId": "be6f1b56-1e55-4291-a7f0-ca227bfc6036"
   },
   "outputs": [
    {
     "data": {
      "image/png": "[encoded data removed]",
      "text/plain": [
       "<Figure size 640x480 with 1 Axes>"
      ]
     },
     "metadata": {},
     "output_type": "display_data"
    },
    {
     "data": {
      "image/png": "[encoded data removed]",
      "text/plain": [
       "<Figure size 640x480 with 1 Axes>"
      ]
     },
     "metadata": {},
     "output_type": "display_data"
    }
   ],
   "source": [
    "A = generate_valid_matrix()\n",
    "eigenvectors = compute_eigenvectors(A)\n",
    "\n",
    "random_vector = np.random.rand(2)\n",
    "\n",
    "plot_vectors([eigenvectors[0], eigenvectors[1], random_vector],\n",
    "             ['r', 'g', 'b'],\n",
    "             ['Eigenvector 1', 'Eigenvector 2', 'Random Vector'],\n",
    "             'Original Vectors')\n",
    "\n",
    "transformed_vectors = [A @ eigenvectors[0],\n",
    "                       A @ eigenvectors[1], A @ random_vector]\n",
    "\n",
    "plot_vectors(transformed_vectors,\n",
    "             ['r', 'g', 'b'],\n",
    "             ['Transformed Eigenvector 1', 'Transformed Eigenvector 2',\n",
    "                 'Transformed Random Vector'],\n",
    "             'Transformed Vectors')"
   ]
  },
  {
   "cell_type": "markdown",
   "metadata": {
    "id": "dABxMS9wG3o_"
   },
   "source": [
    "<h3 style='color: red;'>Question</h3>\n",
    "explain this behavior of these vectors in 2D plain"
   ]
  },
  {
   "cell_type": "markdown",
   "metadata": {
    "id": "VqZQGCiSG3pA"
   },
   "source": [
    "<h3 style='color: yellow;'>Your answer</h3>\n",
    "\n",
    "The direction of the eigenvectors, which are the green and red vectors, has not changed; only their length and orientation have changed while their direction remains fixed. However, the direction of the blue vector changes because it is not an eigenvector and, under transformation, it may become a combination of vectors that alters its direction."
   ]
  },
  {
   "cell_type": "markdown",
   "metadata": {
    "id": "CrU96CfqG3pA"
   },
   "source": [
    "<h3 style='color: green;'>Diagonalization</h3>\n",
    "Diagonalization of a matrix involves finding a matrix P and a diagonal matrix D such that A = PDP^(-1). This is possible if A has n linearly independent eigenvectors."
   ]
  },
  {
   "cell_type": "code",
   "execution_count": 345,
   "metadata": {
    "ExecuteTime": {
     "end_time": "2024-06-20T22:54:03.846840Z",
     "start_time": "2024-06-20T22:54:03.841932Z"
    },
    "id": "3dS2y_22G3pA"
   },
   "outputs": [],
   "source": [
    "def diagonalize(A):\n",
    "    eigenvalues = compute_eigenvalues(A)\n",
    "    mat = np.zeros((2, 2), dtype=float)\n",
    "    mat[0, 0] = eigenvalues[0]\n",
    "    mat[1, 1] = eigenvalues[1]\n",
    "    return mat"
   ]
  },
  {
   "cell_type": "markdown",
   "metadata": {
    "id": "llpLrZLcG3pA"
   },
   "source": [
    "to check your answer use the cells below"
   ]
  },
  {
   "cell_type": "code",
   "execution_count": 346,
   "metadata": {
    "ExecuteTime": {
     "end_time": "2024-06-20T22:54:03.852263Z",
     "start_time": "2024-06-20T22:54:03.847850Z"
    },
    "id": "gKmDm981G3pB"
   },
   "outputs": [],
   "source": [
    "def check_diagonalization(D, A):\n",
    "    is_diagonal = np.allclose(D, np.diag(np.diagonal(D)))\n",
    "    eigenvalues_A = np.linalg.eigvals(A)\n",
    "    diagonal_entries_D = np.diagonal(D)\n",
    "    has_correct_diagonal = np.allclose(np.sort(eigenvalues_A), np.sort(diagonal_entries_D))\n",
    "    has_all_eigenvalues = set(diagonal_entries_D) >= set(eigenvalues_A)\n",
    "\n",
    "    if is_diagonal and has_correct_diagonal and has_all_eigenvalues:\n",
    "        display(HTML('<font color=\"green\">All conditions satisfied:</font> Matrix D properly diagonalizes matrix A.'))\n",
    "    else:\n",
    "        if not is_diagonal:\n",
    "            display(HTML('<font color=\"red\">Error:</font> Matrix D is not diagonal.'))\n",
    "        if not has_correct_diagonal:\n",
    "            display(HTML('<font color=\"red\">Error:</font> Diagonal entries of D are not eigenvalues of A.'))\n",
    "        if not has_all_eigenvalues:\n",
    "            display(HTML('<font color=\"red\">Error:</font> D does not include all eigenvalues of A.'))\n"
   ]
  },
  {
   "cell_type": "code",
   "execution_count": 347,
   "metadata": {
    "ExecuteTime": {
     "end_time": "2024-06-20T22:54:03.858154Z",
     "start_time": "2024-06-20T22:54:03.853852Z"
    },
    "id": "rI9_28RIG3pB",
    "outputId": "2f257ac2-7028-4b5c-c57f-0423ef69f3b5"
   },
   "outputs": [
    {
     "data": {
      "text/html": [
       "<font color=\"green\">All conditions satisfied:</font> Matrix D properly diagonalizes matrix A."
      ],
      "text/plain": [
       "<IPython.core.display.HTML object>"
      ]
     },
     "metadata": {},
     "output_type": "display_data"
    }
   ],
   "source": [
    "A = generate_valid_matrix()\n",
    "\n",
    "D = diagonalize(A)\n",
    "\n",
    "check_diagonalization(D, A)"
   ]
  },
  {
   "cell_type": "markdown",
   "metadata": {
    "id": "F7cqr4RZG3pB"
   },
   "source": [
    "<h3 style='color: green;'>Properties of Diagonalized Matrix</h3>\n",
    "A diagonalized matrix has its eigenvalues on the diagonal. It is easier to compute powers of a diagonal matrix."
   ]
  },
  {
   "cell_type": "markdown",
   "metadata": {
    "id": "J-mkeg0rG3pD"
   },
   "source": [
    "<h3 style='color: red;'>Question</h3>\n",
    "How do you think we can speed up the process of calculating powers of a matrix by using diagonalization?"
   ]
  },
  {
   "cell_type": "markdown",
   "metadata": {
    "id": "ll0pEQQPG3pD"
   },
   "source": [
    "<h3 style='color: yellow;'>Your answer:</h3>\n",
    "\n",
    "The side matrices cancel each other out, and the middle matrix is diagonal, with the elements on the main diagonal being exponentiated. This means that instead of multiplying two high-order matrices, we exponentiate a diagonal matrix, which has a significantly lower computational complexity. Therefore, it should take much less time."
   ]
  },
  {
   "cell_type": "markdown",
   "metadata": {
    "id": "0MfFDZNWG3pD"
   },
   "source": [
    "<h3 style='color: green;'>Performance Comparison</h3>\n",
    "We will compare the time taken to compute matrix powers using regular methods versus diagonalization."
   ]
  },
  {
   "cell_type": "markdown",
   "metadata": {
    "id": "XkskzF7lG3pD"
   },
   "source": [
    "First, we will compute the powers of a matrix using the regular method."
   ]
  },
  {
   "cell_type": "code",
   "execution_count": 348,
   "metadata": {
    "ExecuteTime": {
     "end_time": "2024-06-20T22:54:03.862049Z",
     "start_time": "2024-06-20T22:54:03.858154Z"
    },
    "id": "kUUJ_6ctG3pD"
   },
   "outputs": [],
   "source": [
    "def compute_powers(A, n):\n",
    "    result = A\n",
    "    for _ in range(n-1):\n",
    "        result = result @ A\n",
    "    return result"
   ]
  },
  {
   "cell_type": "code",
   "execution_count": 349,
   "metadata": {
    "ExecuteTime": {
     "end_time": "2024-06-20T22:54:03.865650Z",
     "start_time": "2024-06-20T22:54:03.863108Z"
    },
    "id": "AVuKLc6aG3pD"
   },
   "outputs": [],
   "source": [
    "n_values = range(1, 200)"
   ]
  },
  {
   "cell_type": "code",
   "execution_count": 350,
   "metadata": {
    "ExecuteTime": {
     "end_time": "2024-06-20T22:54:03.910618Z",
     "start_time": "2024-06-20T22:54:03.866646Z"
    },
    "id": "yaw7gGSoG3pD"
   },
   "outputs": [],
   "source": [
    "regular_times = []\n",
    "\n",
    "for n in n_values:\n",
    "    timer = timeit.Timer(lambda: compute_powers(A, n))\n",
    "    regular_times.append(timer.timeit(number=1))"
   ]
  },
  {
   "cell_type": "markdown",
   "metadata": {
    "id": "yDFbIMA9G3pE"
   },
   "source": [
    "Next, we will use your method for calculating power of a matrix."
   ]
  },
  {
   "cell_type": "code",
   "execution_count": 351,
   "metadata": {
    "ExecuteTime": {
     "end_time": "2024-06-20T22:54:03.915506Z",
     "start_time": "2024-06-20T22:54:03.911637Z"
    },
    "id": "1VmwTfB8G3pE"
   },
   "outputs": [],
   "source": [
    "def compute_powers_your_way(A, n):\n",
    "    vals = compute_eigenvalues(A)\n",
    "    vectors = compute_eigenvectors(A)\n",
    "    DMat = np.zeros((2, 2), dtype=float)\n",
    "    DMat[0, 0] = vals[0]\n",
    "    DMat[1, 1] = vals[1]\n",
    "    DMat = np.power(DMat, n)\n",
    "    # TA said I can use linalg for Reverse\n",
    "    return vectors @ DMat @ np.linalg.inv(vectors)"
   ]
  },
  {
   "cell_type": "code",
   "execution_count": 352,
   "metadata": {
    "ExecuteTime": {
     "end_time": "2024-06-20T22:54:03.952957Z",
     "start_time": "2024-06-20T22:54:03.916022Z"
    },
    "id": "RxVs7iRZG3pE"
   },
   "outputs": [],
   "source": [
    "diagonal_times = []\n",
    "\n",
    "for n in n_values:\n",
    "    timer = timeit.Timer(lambda: compute_powers_your_way(A, n))\n",
    "    diagonal_times.append(timer.timeit(number=1))"
   ]
  },
  {
   "cell_type": "markdown",
   "metadata": {
    "id": "YBljoByjG3pF"
   },
   "source": [
    "Finally, we will plot the results to compare the performance of both methods."
   ]
  },
  {
   "cell_type": "code",
   "execution_count": 353,
   "metadata": {
    "ExecuteTime": {
     "end_time": "2024-06-20T22:54:04.092221Z",
     "start_time": "2024-06-20T22:54:03.955046Z"
    },
    "id": "yzRujDBlG3pF",
    "outputId": "b18bfe07-3157-411c-af44-f74381abbe83"
   },
   "outputs": [
    {
     "data": {
      "image/png": "[encoded data removed]",
      "text/plain": [
       "<Figure size 640x480 with 1 Axes>"
      ]
     },
     "metadata": {},
     "output_type": "display_data"
    }
   ],
   "source": [
    "plt.plot(n_values, regular_times, label='Regular Method')\n",
    "plt.plot(n_values, diagonal_times, label='Diagonalization Method')\n",
    "plt.xlabel('Exponent (n)')\n",
    "plt.ylabel('Time (s)')\n",
    "plt.legend()\n",
    "plt.title('Performance Comparison')\n",
    "plt.show()"
   ]
  },
  {
   "cell_type": "markdown",
   "metadata": {
    "id": "5kwiT2jIHGvK"
   },
   "source": [
    "<h3 style='color: green;'>Background: </h3>\n",
    "\n",
    "QR decomposition is a matrix factorization technique that decomposes a matrix\n",
    "𝐴\n",
    "into an orthogonal matrix\n",
    "𝑄\n",
    "and an upper triangular matrix\n",
    "𝑅\n",
    "R. The Gram-Schmidt process is a method for orthogonalizing a set of vectors in an inner product space, which forms the basis of this decomposition.\n",
    "\n",
    "<h3 style='color: green;'>Gram-Schmidt Process: </h3>\n",
    "\n",
    "A method to orthogonalize a set of vectors in an inner product space.\n",
    "\n",
    "<h3 style='color: green;'>Theory: </h3>\n",
    "\n",
    "Given a matrix\n",
    "$ 𝐴 ∈ 𝑅^{𝑚 × 𝑛} $ , QR decomposition aims to find an orthogonal matrix\n",
    "$ Q ∈ 𝑅^{𝑚 × 𝑛} $ and an upper triangular matrix  $ R ∈ 𝑅^{n × 𝑛} $ such that:\n",
    "$ A = Q R $\n",
    "\n",
    "**In the section below, implement QR decompostion step by step :**"
   ]
  },
  {
   "cell_type": "code",
   "execution_count": 354,
   "metadata": {
    "id": "sj-lMxxMHcat"
   },
   "outputs": [],
   "source": [
    "def gram_schmidt(A):\n",
    "    Q = np.zeros((A.shape[0], A.shape[1]))\n",
    "    R = np.zeros((A.shape[1], A.shape[1]))\n",
    "    for i in range(A.shape[1]):\n",
    "        v = A[:, i]\n",
    "        for j in range(i):\n",
    "            R[j, i] = np.dot(Q[:, j].T, v)\n",
    "            v = v - R[j, i] * Q[:, j]\n",
    "        R[i, i] = np.sqrt(np.dot(v.T, v))\n",
    "        Q[:, i] = v / R[i, i]\n",
    "    return Q, R"
   ]
  },
  {
   "cell_type": "markdown",
   "metadata": {
    "id": "PkYIyxBmHfJ5"
   },
   "source": [
    "Now, let's check if the decompostion. No need to change the following cell."
   ]
  },
  {
   "cell_type": "code",
   "execution_count": 355,
   "metadata": {
    "colab": {
     "base_uri": "https://localhost:8080/"
    },
    "id": "Am892MuUHhFz",
    "outputId": "c3164dc2-4050-47dc-cd35-a67f5a146abc"
   },
   "outputs": [
    {
     "name": "stdout",
     "output_type": "stream",
     "text": [
      "Matrix A:\n",
      "[[0.57673858 0.24451998 0.85230384 0.43692781]\n",
      " [0.97682511 0.25511446 0.14035602 0.81187305]\n",
      " [0.27856283 0.52068175 0.82228621 0.96371491]\n",
      " [0.21937617 0.90402108 0.38433808 0.97379458]]\n",
      "\n",
      "Orthogonal matrix Q:\n",
      "[[ 0.48526499 -0.0602933   0.6471513  -0.58487418]\n",
      " [ 0.82189582 -0.27644101 -0.45095099  0.21144938]\n",
      " [ 0.23438139  0.4121682   0.51077746  0.71713954]\n",
      " [ 0.18458202  0.86606147 -0.3419719  -0.31451905]]\n",
      "\n",
      "Upper triangular matrix R:\n",
      "[[1.18850235 0.61723864 0.79262173 1.28492265]\n",
      " [0.         0.91227926 0.58159226 0.98979978]\n",
      " [0.         0.         0.77684829 0.07587692]\n",
      " [0.         0.         0.         0.30096339]]\n",
      "\n",
      "Check A = QR: True\n",
      "\n",
      "Check Q^T Q = I: True\n"
     ]
    }
   ],
   "source": [
    "def test_QR_decomposition():\n",
    "    A = np.random.random((4, 4))\n",
    "    Q, R = gram_schmidt(A)\n",
    "    print(\"Matrix A:\")\n",
    "    print(A)\n",
    "    print(\"\\nOrthogonal matrix Q:\")\n",
    "    print(Q)\n",
    "    print(\"\\nUpper triangular matrix R:\")\n",
    "    print(R)\n",
    "    print(f\"\\nCheck A = QR: {np.allclose(A, np.dot(Q, R))}\")\n",
    "    print(f\"\\nCheck Q^T Q = I: {np.allclose(np.dot(Q.T, Q), np.eye(Q.shape[1]))}\")\n",
    "\n",
    "test_QR_decomposition()"
   ]
  },
  {
   "cell_type": "markdown",
   "metadata": {
    "id": "-owPtKScHjlA"
   },
   "source": [
    "In this section, we will implement [Househodler reflection](https://en.wikipedia.org/wiki/Householder_transformation) method to compute QR decomposition.\n",
    "\n",
    "<h3 style='color: green;'>Concept of Householder Reflections: </h3>\n",
    "\n",
    "Householder reflections are used to zero out specific elements of a vector or matrix. A Householder reflection is defined by a vector\n",
    "𝑣 and it generates a matrix  𝐻 such that:\n",
    "$$ 𝐻 = 𝐼 − 2𝑣𝑣^𝑇 $$\n",
    "where  𝑣 is a unit vector. This transformation is used to reflect a vector about a plane or hyperplane. When applied to a vector, it can zero out all elements below the first one, which is useful for transforming a matrix into an upper triangular form.\n",
    "\n",
    "<h3 style='color: green;'>Using Householder Reflections for QR Decomposition: </h3>\n",
    "\n",
    "The goal is to decompose a matrix\n",
    "𝐴 into an orthogonal matrix 𝑄 and an upper triangular matrix 𝑅. Householder reflections are used to systematically zero out the sub-diagonal elements of\n",
    "𝐴 transforming it into\n",
    "𝑅. The orthogonal matrix\n",
    "𝑄 is the product of all Householder matrices used in the process."
   ]
  },
  {
   "cell_type": "code",
   "execution_count": 356,
   "metadata": {
    "id": "YQY0Q_R1HlaK"
   },
   "outputs": [],
   "source": [
    "def norm(v):\n",
    "  n = len(v)\n",
    "  sum = 0.0\n",
    "  for i in range(n):\n",
    "    sum += v[i] * v[i]\n",
    "  return np.sqrt(sum)\n",
    "\n",
    "def householder_reflection(a):\n",
    "    n = len(a)\n",
    "    v = a.copy()\n",
    "    print(v)\n",
    "    v[0] = v[0] + a[0] * norm(a) / norm(a[0])\n",
    "    norm_v = norm(v)\n",
    "    return - 2 * np.outer(v/norm_v, v/norm_v) + np.eye(n)\n",
    "\n",
    "\n",
    "def qr_householder(A):\n",
    "    m, n = A.shape\n",
    "    Q = np.eye(m)\n",
    "    R = A.copy()\n",
    "\n",
    "    for i in range(min(m, n)):\n",
    "        v = R[i:, i]\n",
    "        H = householder_reflection(v)\n",
    "        R[i:, :] = H @ R[i:, :]\n",
    "        Q[:, i:] = Q[:, i:] @ H\n",
    "    return Q, R"
   ]
  },
  {
   "cell_type": "markdown",
   "metadata": {
    "id": "jl--0YygHoHu"
   },
   "source": [
    "Now, let's check if the decompostion.\n"
   ]
  },
  {
   "cell_type": "code",
   "execution_count": 357,
   "metadata": {
    "colab": {
     "base_uri": "https://localhost:8080/"
    },
    "id": "ALYaP8uhHovM",
    "outputId": "e91edd8e-e4c4-46e5-8568-29e4517efb8f"
   },
   "outputs": [
    {
     "name": "stdout",
     "output_type": "stream",
     "text": [
      "Matrix A:\n",
      "[[0.73108711 0.4700157  0.89468132 0.73267122]\n",
      " [0.2292012  0.69430225 0.46383702 0.11645235]\n",
      " [0.70607794 0.68421633 0.60246282 0.77982287]\n",
      " [0.7882962  0.22000454 0.38988692 0.0341873 ]]\n",
      "\n",
      "Orthogonal matrix Q:\n",
      "[[ 0.55957088 -0.04031404  0.82720763  0.03134884]\n",
      " [ 0.17542959  0.81933716 -0.05817328 -0.54270338]\n",
      " [ 0.54042897  0.3113475  -0.37636668  0.68508933]\n",
      " [ 0.60335846 -0.47971256 -0.41314831 -0.48491536]]\n",
      "\n",
      "Upper triangular matrix R:\n",
      "[[1.30651388 0.88732018 1.14283828 0.87247673]\n",
      " [0.         0.65740951 0.34451233 0.29227263]\n",
      " [0.         0.         0.32527624 0.29167304]\n",
      " [0.         0.         0.         0.47743968]]\n",
      "\n",
      "Check A = QR: True\n",
      "\n",
      "Check Q^T Q = I: True\n"
     ]
    }
   ],
   "source": [
    "test_QR_decomposition()"
   ]
  },
  {
   "cell_type": "markdown",
   "metadata": {
    "id": "GKPR8aUzHsZt"
   },
   "source": [
    "<h3 style='color: green;'> Calculating Eigenvalues Using QR Decomposition </h3>\n",
    "\n",
    "Eigenvalues and eigenvectors are fundamental concepts in linear algebra, playing a crucial role in various mathematical and scientific applications. One efficient method to compute eigenvalues of a matrix is through QR decomposition. In this section, we will use QR decomposition to estimate eigenvalues and eigenvectors.\n",
    "\n",
    "The QR algorithm utilizes QR decomposition iteratively to approximate eigenvalues of $ A $. Here’s a step-by-step outline of how this process works:\n",
    "\n",
    "1. **Initial Setup:**\n",
    "   - Start with a square matrix $ A $.\n",
    "\n",
    "2. **QR Decomposition Iteration:**\n",
    "   - Decompose $ A $ into $ Q $ and R such that:\n",
    "\n",
    "     $$ A^{(0)} = Q^{(0)} R^{(0)} $$\n",
    "\n",
    "   - Update $ A $ iteratively:\n",
    "\n",
    "     $$ A^{(k)} = R^{(k-1)} Q^{(k-1)} $$\n",
    "   - Convergence is typically checked by ensuring $ A^{(k)} $ becomes increasingly upper triangular or converges to a diagonal matrix.\n",
    "\n",
    "3. **Extracting Eigenvalues:**\n",
    "   - After convergence, the diagonal elements of the upper triangular matrix $ A^{(k)} $ are the eigenvalues of $ A $."
   ]
  },
  {
   "cell_type": "code",
   "execution_count": 358,
   "metadata": {
    "id": "v7RBDvXKHuAf"
   },
   "outputs": [],
   "source": [
    "def qr_algorithm(A, num_iterations=1000, tol=1e-10):\n",
    "    A = A.copy()\n",
    "    n = A.shape[0]\n",
    "    Q_total = np.eye(n)\n",
    "    for _ in range(num_iterations):\n",
    "        Q, R = np.linalg.qr(A)\n",
    "        A = R @ Q\n",
    "        Q_total = Q_total @ Q\n",
    "        if np.allclose(A, np.diag(np.diagonal(A)), atol=tol):\n",
    "            break\n",
    "    eigenvalues = np.diag(A)\n",
    "    return eigenvalues, Q_total\n",
    "\n",
    "def compute_eigenvectors(A, eigenvalues):\n",
    "    n = A.shape[0]\n",
    "    eigenvectors = np.zeros((n, n))\n",
    "\n",
    "    for i, eigenvalue in enumerate(eigenvalues):\n",
    "        eig_matrix = A - np.eye(n) * eigenvalue\n",
    "        _, _, vh = np.linalg.svd(eig_matrix)\n",
    "        eigenvectors[:, i] = vh[-1]\n",
    "\n",
    "    return eigenvectors"
   ]
  },
  {
   "cell_type": "markdown",
   "metadata": {
    "id": "_uy-zBLoHzC4"
   },
   "source": [
    "Let's verify our results. no need to change the following cell."
   ]
  },
  {
   "cell_type": "code",
   "execution_count": 359,
   "metadata": {
    "colab": {
     "base_uri": "https://localhost:8080/"
    },
    "id": "q4Gxnb1sHwH7",
    "outputId": "355a77f4-ae7a-4dfc-c8df-e84f9fe441bc"
   },
   "outputs": [
    {
     "name": "stdout",
     "output_type": "stream",
     "text": [
      "Matrix A:\n",
      "[[0.10223547 0.91466889 0.42197605 0.11821284]\n",
      " [0.75905713 0.80525174 0.58720503 0.35192302]\n",
      " [0.96251175 0.51848793 0.07934977 0.49362381]\n",
      " [0.45472244 0.64670139 0.94976604 0.25931601]]\n",
      "\n",
      "Eigenvalues (QR Algorithm):\n",
      "[ 2.11358317 -0.70459871 -0.26254705  0.09971559]\n",
      "\n",
      "Eigenvectors (QR Algorithm):\n",
      "[[-0.39396096  0.30452004 -0.38840312 -0.36127152]\n",
      " [-0.58211641 -0.0009381   0.24339094 -0.18295379]\n",
      " [-0.46531922 -0.74609741 -0.41236828  0.14586239]\n",
      " [-0.53797144  0.59211935  0.78730951  0.9026267 ]]\n",
      "\n",
      "Verification (A @ eigenvectors - eigenvectors @ np.diag(eigenvalues)):\n",
      "True\n",
      "\n",
      "Eigenvalues (NumPy):\n",
      "[ 2.11358317 -0.70459871 -0.26254705  0.09971559]\n",
      "\n",
      "Eigenvectors (NumPy):\n",
      "[[-0.39396096 -0.30452004  0.38840312 -0.36127152]\n",
      " [-0.58211641  0.0009381  -0.24339094 -0.18295379]\n",
      " [-0.46531922  0.74609741  0.41236828  0.14586239]\n",
      " [-0.53797144 -0.59211935 -0.78730951  0.9026267 ]]\n",
      "\n",
      "Verification with NumPy (Eigenvalues):\n",
      "True\n"
     ]
    }
   ],
   "source": [
    "def test_qr_algorithm():\n",
    "    A = np.random.random((4,4))\n",
    "    eigenvalues, Q_total = qr_algorithm(A)\n",
    "\n",
    "    eigenvectors = compute_eigenvectors(A, eigenvalues)\n",
    "    print(\"Matrix A:\")\n",
    "    print(A)\n",
    "    print(\"\\nEigenvalues (QR Algorithm):\")\n",
    "    print(eigenvalues)\n",
    "    print(\"\\nEigenvectors (QR Algorithm):\")\n",
    "    print(eigenvectors)\n",
    "\n",
    "    # Verify the results\n",
    "    print(\"\\nVerification (A @ eigenvectors - eigenvectors @ np.diag(eigenvalues)):\")\n",
    "    print(np.allclose(A @ eigenvectors, A @ eigenvectors))\n",
    "\n",
    "    # Compare with NumPy's eig function\n",
    "    np_eigenvalues, np_eigenvectors = np.linalg.eig(A)\n",
    "    np_eigenvalues = np_eigenvalues.real\n",
    "\n",
    "    print(\"\\nEigenvalues (NumPy):\")\n",
    "    print(np_eigenvalues)\n",
    "\n",
    "    print(\"\\nEigenvectors (NumPy):\")\n",
    "    print(np_eigenvectors)\n",
    "\n",
    "    print(\"\\nVerification with NumPy (Eigenvalues):\")\n",
    "    print(np.allclose(np.sort(eigenvalues), np.sort(eigenvalues)))\n",
    "\n",
    "test_qr_algorithm()"
   ]
  },
  {
   "cell_type": "markdown",
   "metadata": {
    "id": "e0DYHfIhH4Jo"
   },
   "source": [
    "<h3 style='color: green;'> Conclusion: </h3>\n",
    "\n",
    "\n",
    "QR decomposition offers a powerful method for computing eigenvalues numerically. Its iterative nature makes it suitable for matrices of varying sizes and complexities, providing a robust approach to solving eigenvalue problems in practice.\n"
   ]
  }
 ],
 "metadata": {
  "colab": {
   "provenance": []
  },
  "kernelspec": {
   "display_name": "Python 3 (ipykernel)",
   "language": "python",
   "name": "python3"
  },
  "language_info": {
   "codemirror_mode": {
    "name": "ipython",
    "version": 3
   },
   "file_extension": ".py",
   "mimetype": "text/x-python",
   "name": "python",
   "nbconvert_exporter": "python",
   "pygments_lexer": "ipython3",
   "version": "3.9.13"
  }
 },
 "nbformat": 4,
 "nbformat_minor": 1
}
