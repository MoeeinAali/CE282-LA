{
 "cells": [
  {
   "cell_type": "markdown",
   "metadata": {},
   "source": [
    "\n",
    "<br>\n",
    "<font>\n",
    " <!-- <img src=\"https://cdn.freebiesupply.com/logos/large/2x/sharif-logo-png-transparent.png\" alt=\"SUT logo\" width=300 height=300 align=left class=\"saturate\">  -->\n",
    "<div dir=ltr align=center>\n",
    "<img src=\"https://cdn.freebiesupply.com/logos/large/2x/sharif-logo-png-transparent.png\" width=200 height=200>\n",
    "<br>\n",
    "<font color=0F5298 size=7>\n",
    "Linear Algebra <br>\n",
    "<font color=2565AE size=5>\n",
    "Computer Engineering Department <br>\n",
    "Spring 2024<br>\n",
    "<font color=3C99D size=5>\n",
    "Practical Assignment 2 <br>\n",
    "<font color=696880 size=4>\n",
    "<!-- <br> -->\n",
    "Ashkan Majidi - Mahdi Alinejad - Keyhan Hodaei - Mohammad Mahdi Abedian - Mohammad Farhan Bahrami - Mohammadhossein salimi\n",
    "\n",
    "____"
   ]
  },
  {
   "cell_type": "markdown",
   "metadata": {},
   "source": [
    "# Personal Data"
   ]
  },
  {
   "cell_type": "code",
   "execution_count": 2,
   "metadata": {
    "ExecuteTime": {
     "end_time": "2024-05-19T05:32:40.719515Z",
     "start_time": "2024-05-19T05:32:40.714715Z"
    }
   },
   "outputs": [],
   "source": [
    "student_number = '401105561'\n",
    "first_name = 'Moeein'\n",
    "last_name = 'Aali'"
   ]
  },
  {
   "cell_type": "markdown",
   "metadata": {},
   "source": [
    "# Introduction"
   ]
  },
  {
   "cell_type": "markdown",
   "metadata": {},
   "source": [
    "In this assignment, you will implement some Algorithms and topics which you've already learned their theoretical foundations in the class. Note that **you are not allowed to use `numpy.linalg` functions in this notebook**."
   ]
  },
  {
   "cell_type": "markdown",
   "metadata": {},
   "source": [
    "Import your needed libraries here."
   ]
  },
  {
   "cell_type": "code",
   "execution_count": 1,
   "metadata": {
    "ExecuteTime": {
     "end_time": "2024-05-19T05:33:27.336659Z",
     "start_time": "2024-05-19T05:33:26.566449Z"
    }
   },
   "outputs": [],
   "source": [
    "import tester\n",
    "import numpy as np\n",
    "import math\n",
    "import plotly.graph_objs as go\n",
    "import matplotlib.pyplot as plt\n",
    "\n",
    "# TODO: write your code here"
   ]
  },
  {
   "cell_type": "markdown",
   "metadata": {},
   "source": [
    "# Q1: System of Equations (20 + 20 Points)"
   ]
  },
  {
   "cell_type": "markdown",
   "metadata": {},
   "source": [
    "In this part, you are going to solve a system of equations using the Gauss-Jordan elimination method. You will also use the results to find the conic section that fits the given data points."
   ]
  },
  {
   "cell_type": "markdown",
   "metadata": {},
   "source": [
    "First, write a function that gets an augmented matrix as its input and then returns the results if the matrix could be solved using the Gauss-Jordan elimination method. If the matrix could not be solved, the function should return an appropriate error message.  "
   ]
  },
  {
   "cell_type": "code",
   "execution_count": 6,
   "metadata": {},
   "outputs": [],
   "source": [
    "def solve(A, b):\n",
    "    #TODO: check if the matrix is solvable\n",
    "    #TODO: if it's not solvable, return an error message\n",
    "    #TODO: else, find the row reduced echelon form of the matrix and return the results of the matrix\n",
    "    pass"
   ]
  },
  {
   "cell_type": "markdown",
   "metadata": {},
   "source": [
    "Consider the [Ecliptic Coordinate System](https://en.wikipedia.org/wiki/Ecliptic_coordinate_system) in astronomy. The coordinates of a star in this system are given as $(\\lambda, \\beta)$, where $\\lambda$ is the ecliptic longitude and $\\beta$ is the ecliptic latitude. \n",
    "\n",
    "We will give you the position vectors of an astronomical object with respect to a distant observer for five different [true anomalies](https://en.wikipedia.org/wiki/True_anomaly).\n",
    "\n",
    "Consider the [Conic Sections](https://en.wikipedia.org/wiki/Conic_section) in mathematics. The general form of a conic section is given as $Ax^2 + Bxy + Cy^2 + Dx + Ey + F = 0$. Every orbit of astronomical objects (such as planets, asteroids, comets, etc.) is a conic section. Conic sections are classified into four types: ellipse, parabola, hyperbola, and circle.\n",
    "\n",
    "Fit a surface to the given points.\n",
    "\n",
    "Surface equation: $Ax + By+ Cz + D = 0$.\n",
    "We take the value of C as one, and we obtain the values of A, B, and D using the following system of equations.\n",
    "\n",
    "\\begin{align*}\n",
    "\\sum_{i=1}^{N} z_i &= -B \\sum_{i=1}^{N} y_i - A \\sum_{i=1}^{N} x_i - D N \\\\\n",
    "\\sum_{i=1}^{N} z_i y_i &= -B \\sum_{i=1}^{N} y_i^2 - A \\sum_{i=1}^{N} x_i y_i - D \\sum_{i=1}^{N} y_i \\\\\n",
    "\\sum_{i=1}^{N} z_i x_i &= -B \\sum_{i=1}^{N} x_i y_i - A \\sum_{i=1}^{N} x_i^2 - D \\sum_{i=1}^{N} x_i\n",
    "\\end{align*}\n",
    "\n"
   ]
  },
  {
   "cell_type": "code",
   "execution_count": 7,
   "metadata": {},
   "outputs": [],
   "source": [
    "vectors = tester.vectors[0]\n",
    "print(vectors)"
   ]
  },
  {
   "cell_type": "code",
   "execution_count": 8,
   "metadata": {},
   "outputs": [
    {
     "name": "stdout",
     "output_type": "stream",
     "text": [
      "(0.0917859924425069, -0.08168929608484195, 1, 4.97434058843004)\n"
     ]
    }
   ],
   "source": [
    "def surface_fit(vectors):\n",
    "    #TODO: return A, B, C, D\n",
    "    pass\n",
    "\n",
    "\n",
    "print(surface_fit(vectors))"
   ]
  },
  {
   "cell_type": "markdown",
   "metadata": {},
   "source": [
    "### **From this cell to the end of Q1 Tasks are optional and have extra points.**"
   ]
  },
  {
   "cell_type": "markdown",
   "metadata": {},
   "source": [
    "Retrieve the normal vector of the obtained surface."
   ]
  },
  {
   "cell_type": "code",
   "execution_count": 9,
   "metadata": {},
   "outputs": [
    {
     "name": "stdout",
     "output_type": "stream",
     "text": [
      "[ 0.09178599 -0.0816893   1.        ]\n"
     ]
    }
   ],
   "source": [
    "def get_normal_vector(A, B, C, D):\n",
    "    #TODO: return the normal vector of the surface\n",
    "    pass\n",
    "\n",
    "\n",
    "A, B, C, D = surface_fit(vectors)\n",
    "normal_vector = get_normal_vector(A, B, C, D)\n",
    "print(normal_vector)"
   ]
  },
  {
   "cell_type": "markdown",
   "metadata": {},
   "source": [
    "[Longitude of the Ascending Node](https://en.wikipedia.org/wiki/Longitude_of_the_ascending_node#:~:text=The%20longitude%20of%20the%20ascending,in%20a%20specified%20reference%20plane): The angle measured along the ecliptic plane from the [vernal equinox](https://en.wikipedia.org/wiki/Equinox) to the point where the orbit crosses the ecliptic plane from south to north.\n",
    "\n",
    "[Inclination](https://en.wikipedia.org/wiki/Orbital_inclination): The angle between the orbital plane of a celestial body (such as a planet or satellite) and a reference plane, usually the ecliptic plane for objects in the solar system. It is measured in degrees and indicates how tilted the orbit is relative to the reference plane.\n",
    "\n",
    "Find Inclination and Longitude of the Ascending Node of the orbit."
   ]
  },
  {
   "cell_type": "code",
   "execution_count": 10,
   "metadata": {},
   "outputs": [
    {
     "name": "stdout",
     "output_type": "stream",
     "text": [
      "Inclination is: 7.005\n",
      "longitude of ascending node is:  48.331\n"
     ]
    }
   ],
   "source": [
    "def angle_of_vectors(u, v):\n",
    "    #TODO: return the angle between two vectors u and v\n",
    "    pass\n",
    "\n",
    "\n",
    "def find_inclination(normal_vec):\n",
    "    #TODO: return the inclination of the orbit\n",
    "    #TODO: the angle between the z-axis and the normal vector\n",
    "    pass\n",
    "\n",
    "\n",
    "def find_longitude_of_ascending_node(normal_vec):\n",
    "    #TODO: return the longitude of the ascending node\n",
    "    #TODO: store the angle between the x-axis and the projection of the normal vector on the xy plane in the angle variable\n",
    "    angle = 0\n",
    "    if normal_vec[1] <= 0:\n",
    "        return 90 - angle\n",
    "    return angle + 90\n",
    "\n",
    "\n",
    "inclination = find_inclination(normal_vector)\n",
    "longitude_of_ascending_node = find_longitude_of_ascending_node(normal_vector)\n",
    "\n",
    "print(\"Inclination is:\", round(inclination, 5))\n",
    "print(\"longitude of ascending node is: \", round(longitude_of_ascending_node, 5))"
   ]
  },
  {
   "cell_type": "markdown",
   "metadata": {},
   "source": [
    "Find a translation vector to translate coordinates system to the orbit's plane and then translate the coordinate system."
   ]
  },
  {
   "cell_type": "code",
   "execution_count": 11,
   "metadata": {},
   "outputs": [],
   "source": [
    "def translate(u, v):\n",
    "    #TODO: return the translation of vector u by vector v\n",
    "    pass\n",
    "\n",
    "\n",
    "#TODO: translate the vectors to the orbit's plane\n",
    "translation_vector = None\n",
    "vectors = [translate(vector, translation_vector) for vector in vectors]"
   ]
  },
  {
   "cell_type": "markdown",
   "metadata": {},
   "source": [
    "To align the xy plane of the coordinate system with the orbital plane, it needs to be rotated by an angle equal to `the ascending node longitude` around the `z-axis` and another rotation by an angle equal to the `orbital inclination` around the `x-axis`. First, write two functions to find the components of a vector in the rotated coordinate system around x and z axes, then find all vectors in the rotated coordinate system.<br>Hint: Use rotation matrices"
   ]
  },
  {
   "cell_type": "code",
   "execution_count": 12,
   "metadata": {},
   "outputs": [],
   "source": [
    "# Some useful trigonometric functions\n",
    "def cos(x):\n",
    "    return math.cos(x * math.pi / 180)\n",
    "\n",
    "\n",
    "def acos(x):\n",
    "    return math.acos(x) * 180 / math.pi\n",
    "\n",
    "\n",
    "def sin(x):\n",
    "    return math.sin(x * math.pi / 180)\n",
    "\n",
    "\n",
    "def asin(x):\n",
    "    return math.asin(x) * 180 / math.pi\n",
    "\n",
    "\n",
    "def tan(x):\n",
    "    return math.tan(x * math.pi / 180)\n",
    "\n",
    "\n",
    "def atan(x):\n",
    "    return math.atan(x) * 180 / math.pi"
   ]
  },
  {
   "cell_type": "code",
   "execution_count": 13,
   "metadata": {},
   "outputs": [
    {
     "name": "stdout",
     "output_type": "stream",
     "text": [
      "[array([-68.70860802,  32.17621208,   0.        ]), array([-68.83364962,  32.2809299 ,   0.        ]), array([-69.06504891,  32.31987   ,   0.        ]), array([-69.40148918,  31.90880849,   0.        ]), array([-69.1045893 ,  31.57051624,   0.        ])]\n"
     ]
    }
   ],
   "source": [
    "def rotate_about_z(vector, x):\n",
    "    #TODO: find the z-axis rotation matrix\n",
    "    rotation_matrix = None\n",
    "    #TODO: find the rotated vector by multiplying the rotation matrix and the vector\n",
    "    return np.dot(rotation_matrix, vector)\n",
    "\n",
    "\n",
    "def rotate_about_x(vector, x):\n",
    "    #TODO: find the x-axis rotation matrix\n",
    "    rotation_matrix = None\n",
    "    #TODO: find the rotated vector by multiplying the rotation matrix and the vector\n",
    "    return np.dot(rotation_matrix, vector)\n",
    "\n",
    "\n",
    "def rotate_in_surface(vector):\n",
    "    #TODO: find the vector in the rotated coordinate system\n",
    "    u = None\n",
    "    #TODO: return the vector in the rotated coordinate system\n",
    "    return u - np.array([0, 0, u[2]])\n",
    "\n",
    "\n",
    "#TODO: find all vectors in the rotated coordinate system\n",
    "in_surface_vectors = None\n",
    "print(in_surface_vectors)\n"
   ]
  },
  {
   "cell_type": "markdown",
   "metadata": {},
   "source": [
    "General equation of conic sections is:\n",
    "$Ax^2 + Bxy + Cy^2 + Dx + Ey + F = 0$<br>\n",
    "Find the coefficients A, B, C, D, and E in such a way that they satisfy the given data points.<br>\n",
    "consider that `F = 1`"
   ]
  },
  {
   "cell_type": "code",
   "execution_count": 14,
   "metadata": {},
   "outputs": [
    {
     "name": "stdout",
     "output_type": "stream",
     "text": [
      "(-0.00016980913797862935, 6.309111510327447e-06, -0.00017371363920320006, -0.02364107312428679, 0.011533284887704665, 1)\n"
     ]
    }
   ],
   "source": [
    "def find_conic(vectors):\n",
    "    #TODO: use the conic section equation above to find the coefficients A, B, C, D, E\n",
    "    #TODO: return the coefficients A, B, C, D, E, F\n",
    "    pass\n",
    "\n",
    "\n",
    "A, B, C, D, E, F = find_conic(in_surface_vectors)\n",
    "print(find_conic(in_surface_vectors))"
   ]
  },
  {
   "cell_type": "markdown",
   "metadata": {},
   "source": [
    "In the standard equation of a conic section, the coefficient B is equal to zero. To standardize the equation, rotate your coordinate system by an angle $\\theta$ around the z-axis such that the following equation is satisfied:\n",
    "$tan(2\\theta) = \\frac{B} {A - C}$<br>\n",
    "Then, use the function you wrote to find the coefficients of the conic section."
   ]
  },
  {
   "cell_type": "code",
   "execution_count": 15,
   "metadata": {},
   "outputs": [
    {
     "name": "stdout",
     "output_type": "stream",
     "text": [
      "29.12400004109567\n",
      "(-0.0001680516036379108, -1.0132222973013484e-14, -0.00017547117355563865, -0.01503882989448237, 0.021581255620873315, 1)\n"
     ]
    }
   ],
   "source": [
    "#TODO: find the rotation angle\n",
    "rotation_angle = None\n",
    "print(rotation_angle)\n",
    "#TODO: rotate the vectors by the rotation angle around z-axis\n",
    "rotated_vectors = None\n",
    "print(find_conic(rotated_vectors))\n",
    "A, B, C, D, E, F = find_conic(rotated_vectors)\n",
    "#print your outputs (theta, A, C, D, E)"
   ]
  },
  {
   "cell_type": "markdown",
   "metadata": {},
   "source": [
    "Assume $\\Delta = B^2 - 4AC$<br>\n",
    "If $\\Delta < 0$, the conic section is ellipse or circle (for a circle, we have $A = C$).<br>\n",
    "If $\\Delta = 0$, the conic section is a parabola.<br>\n",
    "If $\\Delta > 0$, the conic section is a hyperbola.<br>\n",
    "If you want to do any comparison between these coefficients, it's better to round their values to 8 decimal places and then compare them.<br>\n",
    "|\n",
    "Write a function that identifies the type of a conic section based on the values of A, B, and C."
   ]
  },
  {
   "cell_type": "code",
   "execution_count": 16,
   "metadata": {},
   "outputs": [
    {
     "name": "stdout",
     "output_type": "stream",
     "text": [
      "ellipse\n"
     ]
    }
   ],
   "source": [
    "def conic_type(A, B, C):\n",
    "    #TODO: find the value of delta, do the comparison and return the type of the conic section\n",
    "    pass\n",
    "\n",
    "\n",
    "orbit_type = conic_type(A, B, C)\n",
    "print(orbit_type)"
   ]
  },
  {
   "cell_type": "markdown",
   "metadata": {},
   "source": [
    "[Eccentricity](https://en.wikipedia.org/wiki/Eccentricity_(mathematics)): The eccentricity of a conic section is a parameter that determines the conic section's shape.<br>\n",
    "For a circle, the eccentricity is 0.<br>\n",
    "For a parabola, the eccentricity is 1.<br>\n",
    "For an ellipse, the eccentricity is between 0 and 1.<br>\n",
    "For a hyperbola, the eccentricity is greater than 1.<br><br>\n",
    "An ellipse is denoted by the following equations:<br><br>\n",
    "$\\frac{(x-x_0)^2}{a^2} + \\frac{(y-y_0)^2}{b^2} = 1$ (the ellipse is horizontal)<br>\n",
    "$\\frac{(y-y_0)^2}{a^2} + \\frac{(x-x_0)^2}{b^2} = 1$ (the ellipse is vertical)<br><br>\n",
    "The eccentricity of an ellipse is:<br><br>\n",
    "$e = \\sqrt{1 - \\frac{b^2}{a^2}}$<br><br>\n",
    "Where $a$ is the semi-major axis of the ellipse and $b$ is the semi-minor axis of the ellipse.<br><br><br>\n",
    "A hyperbola is denoted by the following equations:<br><br>\n",
    "$\\frac{(x-x_0)^2}{a^2} - \\frac{(y-y_0)^2}{b^2} = 1$ (the hyperbola is horizontal)<br>\n",
    "$\\frac{(y-y_0)^2}{a^2} - \\frac{(x-x_0)^2}{b^2} = 1$ (the hyperbola is vertical)<br><br>\n",
    "The eccentricity of a hyperbola is:<br><br>\n",
    "$e = \\sqrt{1 + \\frac{b^2}{a^2}}$<br><br>\n",
    "Where $a$ is the semi-major axis of the hyperbola and $b$ is the semi-minor axis of the hyperbola.<br><br><br>\n",
    "A parabola is denoted by the following equations:<br><br>\n",
    "$(x-x_0)^2 = 4a(y-y_0)$ (the parabola is horizontal)<br>\n",
    "$(y-y_0)^2 = 4a(x-x_0)$ (the parabola is vertical)<br><br>\n",
    "The eccentricity of a parabola is 1.<br>\n",
    "Run the cell below to calculate the eccentricity of the orbit."
   ]
  },
  {
   "cell_type": "code",
   "execution_count": 17,
   "metadata": {},
   "outputs": [
    {
     "name": "stdout",
     "output_type": "stream",
     "text": [
      "0.20563\n"
     ]
    }
   ],
   "source": [
    "def find_eccentricity(A, C):\n",
    "    orbit_type = conic_type(A, 0, C)\n",
    "    if orbit_type == \"circle\":\n",
    "        return 0\n",
    "    if orbit_type == \"parabola\":\n",
    "        return 1\n",
    "    if orbit_type == \"ellipse\":\n",
    "        A = abs(A)\n",
    "        C = abs(C)\n",
    "        return (1 - (min(A, C) / max(A, C))) ** 0.5\n",
    "    if A > 0:\n",
    "        return math.sqrt(1 + A / -C)\n",
    "    return math.sqrt(1 + C / -A)\n",
    "\n",
    "\n",
    "e = round(find_eccentricity(A, C), 5)\n",
    "print(e)"
   ]
  },
  {
   "cell_type": "markdown",
   "metadata": {},
   "source": [
    "[Semi-major axis](https://en.wikipedia.org/wiki/Semi-major_and_semi-minor_axes): The semi-major axis of an orbit is its longest radius, denoted by $a$.<br>\n",
    "Run the following cell to find the semi-major axis of the orbit."
   ]
  },
  {
   "cell_type": "code",
   "execution_count": 18,
   "metadata": {},
   "outputs": [
    {
     "name": "stdout",
     "output_type": "stream",
     "text": [
      "0.3871\n"
     ]
    }
   ],
   "source": [
    "def find_semi_major_axis(A, C, D, E):\n",
    "    if find_eccentricity(A, C) != 1:\n",
    "        x0 = -D / (2 * A)\n",
    "        y0 = -E / (2 * C)\n",
    "        standard_vectors = [translate(vec, [x0, y0, 0]) for vec in rotated_vectors]\n",
    "        A, B, C, D, E, F = find_conic(standard_vectors)\n",
    "    e = find_eccentricity(A, C)\n",
    "    if e == 0:\n",
    "        return 1 / math.sqrt(A)\n",
    "    if e < 1:\n",
    "        if abs(A) < abs(C):\n",
    "            return math.sqrt(1 / A)\n",
    "        return math.sqrt(1 / C)\n",
    "    if e > 1:\n",
    "        if A > 0:\n",
    "            return math.sqrt(1 / A)\n",
    "        else:\n",
    "            return math.sqrt(1 / C)\n",
    "    if abs(A) < abs(C):\n",
    "        return abs(D / (4 * C))\n",
    "    return abs(E / (4 * A))\n",
    "\n",
    "\n",
    "a = round(find_semi_major_axis(A, C, D, E), 4)\n",
    "print(a)"
   ]
  },
  {
   "cell_type": "markdown",
   "metadata": {},
   "source": [
    "Locate the Sun and plot the orbit.<br>\n",
    "Hint: The Sun is located at one of the foci of the orbit (if the orbit has two foci, choose one of them)."
   ]
  },
  {
   "cell_type": "code",
   "execution_count": 19,
   "metadata": {},
   "outputs": [
    {
     "data": {
      "image/png": "[encoded data removed]",
      "text/plain": [
       "<Figure size 1000x1000 with 1 Axes>"
      ]
     },
     "metadata": {},
     "output_type": "display_data"
    }
   ],
   "source": [
    "f = plt.figure()\n",
    "f.set_figwidth(10)\n",
    "f.set_figheight(10)\n",
    "plt.grid(color='lightgray', linestyle='--')\n",
    "\n",
    "\n",
    "def axes():\n",
    "    plt.axhline(0, alpha=.1)\n",
    "    plt.axvline(0, alpha=.1)\n",
    "\n",
    "\n",
    "if orbit_type == \"ellipse\" or orbit_type == \"circle\":\n",
    "    b = a * (1 - e ** 2) ** 0.5\n",
    "    t = np.linspace(0, 2 * math.pi, 100)\n",
    "    plt.xlim([-1.2 * a, 1.2 * a])\n",
    "    plt.ylim([-1.2 * a, 1.2 * a])\n",
    "    plt.plot(a * np.cos(t), b * np.sin(t), color=\"green\")\n",
    "elif orbit_type == \"parabola\":\n",
    "    x = np.linspace(0, 10 * a, 400)\n",
    "    y = np.linspace(- 5 * a, 5 * a, 400)\n",
    "    plt.xlim([-0.2 * a, 10.2 * a])\n",
    "    plt.ylim([-5.2 * a, 5.2 * a])\n",
    "    x, y = np.meshgrid(x, y)\n",
    "    axes()\n",
    "    plt.contour(x, y, (y ** 2 - 4 * a * x), [0], colors='green')\n",
    "else:\n",
    "    b = a * math.sqrt(e ** 2 - 1)\n",
    "    t = np.linspace(0, 2)\n",
    "    plt.plot(a * np.cosh(t), b * np.sinh(t), color=\"green\")\n",
    "    plt.plot(a * np.cosh(t), -b * np.sinh(t), color=\"green\")\n",
    "    plt.plot(-a * np.cosh(t), b * np.sinh(t), color=\"green\")\n",
    "    plt.plot(-a * np.cosh(t), -b * np.sinh(t), color=\"green\")\n",
    "    plt.xlim([-1.2 * a * math.cosh(2), 1.2 * a * math.cosh(2)])\n",
    "    plt.ylim([-1.2 * a * math.cosh(2), 1.2 * a * math.cosh(2)])\n",
    "\n",
    "plt.plot(a * e, 0, 'ro', label=\"sun\")\n",
    "plt.annotate(\"sun\", (a * e, 0.04 * a), size=20)\n",
    "plt.show()"
   ]
  },
  {
   "cell_type": "markdown",
   "metadata": {},
   "source": [
    "# Q2: Gram-Schmidt (40 Points)"
   ]
  },
  {
   "cell_type": "markdown",
   "metadata": {},
   "source": [
    "The Gram-Schmidt process is a mathematical technique used to transform a set of linearly independent vectors into an orthogonal (or orthonormal) set of vectors. It is commonly used in linear algebra and numerical computations.\n",
    "\n",
    "Now we want to implement Gram-Schmidt process so that given a set of linearly independent vectors $a_1, a_2, \\cdots, a_k$, output should be orthonormal vectors $q_1, q_2, \\cdots, q_k$ .\n"
   ]
  },
  {
   "cell_type": "code",
   "execution_count": 2,
   "metadata": {
    "ExecuteTime": {
     "end_time": "2024-05-19T05:44:34.819473Z",
     "start_time": "2024-05-19T05:44:34.813355Z"
    }
   },
   "outputs": [],
   "source": [
    "def gram_schmidt(A: np.ndarray):\n",
    "    \"\"\"\n",
    "    A: matrix with columns a_1, a_2, ..., a_k.\n",
    "    output: matrix Q with columns q_1, q_2, ..., q_k.\n",
    "    \"\"\"\n",
    "    # TODO: write your code here\n",
    "    Q = np.zeros_like(A, dtype=float)\n",
    "    for j in range(A.shape[1]):\n",
    "        Q[:, j] = A[:, j]\n",
    "        for i in range(j):\n",
    "            Q[:, j] -= np.dot(Q[:, j], Q[:, i]) / np.dot(Q[:, i], Q[:, i]) * Q[:, i]\n",
    "        Q[:, j] /= np.sqrt(np.sum(Q[:, j] ** 2))\n",
    "    return Q"
   ]
  },
  {
   "cell_type": "code",
   "execution_count": 3,
   "metadata": {
    "ExecuteTime": {
     "end_time": "2024-05-19T05:44:06.463755Z",
     "start_time": "2024-05-19T05:44:06.455449Z"
    }
   },
   "outputs": [
    {
     "name": "stdout",
     "output_type": "stream",
     "text": [
      "test 1:\n",
      "\u001b[32mPassed!\u001b[0m\n",
      "---------------\n",
      "test 2:\n",
      "\u001b[32mPassed!\u001b[0m\n",
      "---------------\n"
     ]
    }
   ],
   "source": [
    "A1 = np.array([[5, -1, 12, 3], [2, -15, 4, 9], [2, -2, 7, -4], [0, 8, 1, 11]])\n",
    "A2 = np.array([[1, 2, 0], [8, 1, -6], [-3, 12, 1]])\n",
    "\n",
    "B1 = gram_schmidt(A1)\n",
    "B2 = gram_schmidt(A2)\n",
    "\n",
    "print(\"test 1:\")\n",
    "tester.gram_schmidt_test(A1, B1)\n",
    "print(\"test 2:\")\n",
    "tester.gram_schmidt_test(A2, B2)"
   ]
  },
  {
   "cell_type": "markdown",
   "metadata": {},
   "source": [
    "Now we want to visualise this process in 3D space. The `vector_plot` function takes a list of vectors and visualizes them in 3D space. Here’s how it works:\n",
    "\n",
    "Input Parameters:\n",
    "\n",
    "- <strong>tvects:</strong> A list of vectors (each represented as a 3-tuple or array).<br>\n",
    "- <strong>is_vect:</strong> A boolean flag indicating whether the input vectors are true vectors (default is True).<br>\n",
    "- <strong>orig:</strong> The origin point (default is [0, 0, 0]).<br>\n",
    "\n",
    "Steps:\n",
    "\n",
    "- Create a 6-tuple array (coords) to store the coordinates of the vectors.\n",
    "<br>\n",
    "- For each vector in tvects:\n",
    "<br><br>\n",
    "Extract the first and second 3-tuples to represent the beginning and end points of the vector.<br>\n",
    "Use Scatter3d from Plotly to create a vector visualization with appropriate coloring, size, and other properties.<br>\n",
    "Add the vector to the data list.<br>\n",
    "<br>\n",
    "- Set the layout for the 3D plot.\n",
    "<br>\n",
    "- Create the figure and display it using fig.show()."
   ]
  },
  {
   "cell_type": "code",
   "execution_count": 19,
   "metadata": {},
   "outputs": [],
   "source": [
    "def vector_plot(tvects: np.ndarray, is_vect=True, orig=[0, 0, 0]):\n",
    "    \"\"\"\n",
    "    tvects: array of vectors to be plotted, each column is a vector\n",
    "    is_vect: if True, the vectors are plotted from the origin, otherwise they are plotted from 'orig'\n",
    "    orig: starting point of the vectors if is_vect is False\n",
    "    \"\"\"\n",
    "    orig = np.array(orig)\n",
    "    coords = np.vstack([orig + np.zeros_like(tvects), tvects]).T.reshape(-1, 6)\n",
    "    data = []\n",
    "    \n",
    "    for coord in coords:\n",
    "        vector = go.Scatter3d(\n",
    "            x=[coord[:3][0], coord[3:][0]],\n",
    "            y=[coord[:3][1], coord[3:][1]],\n",
    "            z=[coord[:3][2], coord[3:][2]],\n",
    "            mode='lines',\n",
    "            line=dict(width=6, color='blue')\n",
    "        )\n",
    "        data.append(vector)\n",
    "\n",
    "    layout = go.Layout(margin=dict(l=4, r=4, b=4, t=4))\n",
    "    fig = go.Figure(data=data, layout=layout)\n",
    "    fig.show()"
   ]
  },
  {
   "cell_type": "code",
   "execution_count": 20,
   "metadata": {},
   "outputs": [
    {
     "name": "stdout",
     "output_type": "stream",
     "text": [
      "Plot of inital vectors\n",
      "\n"
     ]
    },
    {
     "data": {
      "application/vnd.plotly.v1+json": {
       "config": {
        "plotlyServerURL": "https://plot.ly"
       },
       "data": [
        {
         "line": {
          "color": "blue",
          "width": 6
         },
         "mode": "lines",
         "type": "scatter3d",
         "x": [
          0,
          1
         ],
         "y": [
          0,
          1
         ],
         "z": [
          0,
          1
         ]
        },
        {
         "line": {
          "color": "blue",
          "width": 6
         },
         "mode": "lines",
         "type": "scatter3d",
         "x": [
          0,
          -1
         ],
         "y": [
          0,
          0
         ],
         "z": [
          0,
          1
         ]
        },
        {
         "line": {
          "color": "blue",
          "width": 6
         },
         "mode": "lines",
         "type": "scatter3d",
         "x": [
          0,
          1
         ],
         "y": [
          0,
          1
         ],
         "z": [
          0,
          2
         ]
        }
       ],
       "layout": {
        "margin": {
         "b": 4,
         "l": 4,
         "r": 4,
         "t": 4
        },
        "template": {
         "data": {
          "bar": [
           {
            "error_x": {
             "color": "#2a3f5f"
            },
            "error_y": {
             "color": "#2a3f5f"
            },
            "marker": {
             "line": {
              "color": "#E5ECF6",
              "width": 0.5
             },
             "pattern": {
              "fillmode": "overlay",
              "size": 10,
              "solidity": 0.2
             }
            },
            "type": "bar"
           }
          ],
          "barpolar": [
           {
            "marker": {
             "line": {
              "color": "#E5ECF6",
              "width": 0.5
             },
             "pattern": {
              "fillmode": "overlay",
              "size": 10,
              "solidity": 0.2
             }
            },
            "type": "barpolar"
           }
          ],
          "carpet": [
           {
            "aaxis": {
             "endlinecolor": "#2a3f5f",
             "gridcolor": "white",
             "linecolor": "white",
             "minorgridcolor": "white",
             "startlinecolor": "#2a3f5f"
            },
            "baxis": {
             "endlinecolor": "#2a3f5f",
             "gridcolor": "white",
             "linecolor": "white",
             "minorgridcolor": "white",
             "startlinecolor": "#2a3f5f"
            },
            "type": "carpet"
           }
          ],
          "choropleth": [
           {
            "colorbar": {
             "outlinewidth": 0,
             "ticks": ""
            },
            "type": "choropleth"
           }
          ],
          "contour": [
           {
            "colorbar": {
             "outlinewidth": 0,
             "ticks": ""
            },
            "colorscale": [
             [
              0,
              "#0d0887"
             ],
             [
              0.1111111111111111,
              "#46039f"
             ],
             [
              0.2222222222222222,
              "#7201a8"
             ],
             [
              0.3333333333333333,
              "#9c179e"
             ],
             [
              0.4444444444444444,
              "#bd3786"
             ],
             [
              0.5555555555555556,
              "#d8576b"
             ],
             [
              0.6666666666666666,
              "#ed7953"
             ],
             [
              0.7777777777777778,
              "#fb9f3a"
             ],
             [
              0.8888888888888888,
              "#fdca26"
             ],
             [
              1,
              "#f0f921"
             ]
            ],
            "type": "contour"
           }
          ],
          "contourcarpet": [
           {
            "colorbar": {
             "outlinewidth": 0,
             "ticks": ""
            },
            "type": "contourcarpet"
           }
          ],
          "heatmap": [
           {
            "colorbar": {
             "outlinewidth": 0,
             "ticks": ""
            },
            "colorscale": [
             [
              0,
              "#0d0887"
             ],
             [
              0.1111111111111111,
              "#46039f"
             ],
             [
              0.2222222222222222,
              "#7201a8"
             ],
             [
              0.3333333333333333,
              "#9c179e"
             ],
             [
              0.4444444444444444,
              "#bd3786"
             ],
             [
              0.5555555555555556,
              "#d8576b"
             ],
             [
              0.6666666666666666,
              "#ed7953"
             ],
             [
              0.7777777777777778,
              "#fb9f3a"
             ],
             [
              0.8888888888888888,
              "#fdca26"
             ],
             [
              1,
              "#f0f921"
             ]
            ],
            "type": "heatmap"
           }
          ],
          "heatmapgl": [
           {
            "colorbar": {
             "outlinewidth": 0,
             "ticks": ""
            },
            "colorscale": [
             [
              0,
              "#0d0887"
             ],
             [
              0.1111111111111111,
              "#46039f"
             ],
             [
              0.2222222222222222,
              "#7201a8"
             ],
             [
              0.3333333333333333,
              "#9c179e"
             ],
             [
              0.4444444444444444,
              "#bd3786"
             ],
             [
              0.5555555555555556,
              "#d8576b"
             ],
             [
              0.6666666666666666,
              "#ed7953"
             ],
             [
              0.7777777777777778,
              "#fb9f3a"
             ],
             [
              0.8888888888888888,
              "#fdca26"
             ],
             [
              1,
              "#f0f921"
             ]
            ],
            "type": "heatmapgl"
           }
          ],
          "histogram": [
           {
            "marker": {
             "pattern": {
              "fillmode": "overlay",
              "size": 10,
              "solidity": 0.2
             }
            },
            "type": "histogram"
           }
          ],
          "histogram2d": [
           {
            "colorbar": {
             "outlinewidth": 0,
             "ticks": ""
            },
            "colorscale": [
             [
              0,
              "#0d0887"
             ],
             [
              0.1111111111111111,
              "#46039f"
             ],
             [
              0.2222222222222222,
              "#7201a8"
             ],
             [
              0.3333333333333333,
              "#9c179e"
             ],
             [
              0.4444444444444444,
              "#bd3786"
             ],
             [
              0.5555555555555556,
              "#d8576b"
             ],
             [
              0.6666666666666666,
              "#ed7953"
             ],
             [
              0.7777777777777778,
              "#fb9f3a"
             ],
             [
              0.8888888888888888,
              "#fdca26"
             ],
             [
              1,
              "#f0f921"
             ]
            ],
            "type": "histogram2d"
           }
          ],
          "histogram2dcontour": [
           {
            "colorbar": {
             "outlinewidth": 0,
             "ticks": ""
            },
            "colorscale": [
             [
              0,
              "#0d0887"
             ],
             [
              0.1111111111111111,
              "#46039f"
             ],
             [
              0.2222222222222222,
              "#7201a8"
             ],
             [
              0.3333333333333333,
              "#9c179e"
             ],
             [
              0.4444444444444444,
              "#bd3786"
             ],
             [
              0.5555555555555556,
              "#d8576b"
             ],
             [
              0.6666666666666666,
              "#ed7953"
             ],
             [
              0.7777777777777778,
              "#fb9f3a"
             ],
             [
              0.8888888888888888,
              "#fdca26"
             ],
             [
              1,
              "#f0f921"
             ]
            ],
            "type": "histogram2dcontour"
           }
          ],
          "mesh3d": [
           {
            "colorbar": {
             "outlinewidth": 0,
             "ticks": ""
            },
            "type": "mesh3d"
           }
          ],
          "parcoords": [
           {
            "line": {
             "colorbar": {
              "outlinewidth": 0,
              "ticks": ""
             }
            },
            "type": "parcoords"
           }
          ],
          "pie": [
           {
            "automargin": true,
            "type": "pie"
           }
          ],
          "scatter": [
           {
            "fillpattern": {
             "fillmode": "overlay",
             "size": 10,
             "solidity": 0.2
            },
            "type": "scatter"
           }
          ],
          "scatter3d": [
           {
            "line": {
             "colorbar": {
              "outlinewidth": 0,
              "ticks": ""
             }
            },
            "marker": {
             "colorbar": {
              "outlinewidth": 0,
              "ticks": ""
             }
            },
            "type": "scatter3d"
           }
          ],
          "scattercarpet": [
           {
            "marker": {
             "colorbar": {
              "outlinewidth": 0,
              "ticks": ""
             }
            },
            "type": "scattercarpet"
           }
          ],
          "scattergeo": [
           {
            "marker": {
             "colorbar": {
              "outlinewidth": 0,
              "ticks": ""
             }
            },
            "type": "scattergeo"
           }
          ],
          "scattergl": [
           {
            "marker": {
             "colorbar": {
              "outlinewidth": 0,
              "ticks": ""
             }
            },
            "type": "scattergl"
           }
          ],
          "scattermapbox": [
           {
            "marker": {
             "colorbar": {
              "outlinewidth": 0,
              "ticks": ""
             }
            },
            "type": "scattermapbox"
           }
          ],
          "scatterpolar": [
           {
            "marker": {
             "colorbar": {
              "outlinewidth": 0,
              "ticks": ""
             }
            },
            "type": "scatterpolar"
           }
          ],
          "scatterpolargl": [
           {
            "marker": {
             "colorbar": {
              "outlinewidth": 0,
              "ticks": ""
             }
            },
            "type": "scatterpolargl"
           }
          ],
          "scatterternary": [
           {
            "marker": {
             "colorbar": {
              "outlinewidth": 0,
              "ticks": ""
             }
            },
            "type": "scatterternary"
           }
          ],
          "surface": [
           {
            "colorbar": {
             "outlinewidth": 0,
             "ticks": ""
            },
            "colorscale": [
             [
              0,
              "#0d0887"
             ],
             [
              0.1111111111111111,
              "#46039f"
             ],
             [
              0.2222222222222222,
              "#7201a8"
             ],
             [
              0.3333333333333333,
              "#9c179e"
             ],
             [
              0.4444444444444444,
              "#bd3786"
             ],
             [
              0.5555555555555556,
              "#d8576b"
             ],
             [
              0.6666666666666666,
              "#ed7953"
             ],
             [
              0.7777777777777778,
              "#fb9f3a"
             ],
             [
              0.8888888888888888,
              "#fdca26"
             ],
             [
              1,
              "#f0f921"
             ]
            ],
            "type": "surface"
           }
          ],
          "table": [
           {
            "cells": {
             "fill": {
              "color": "#EBF0F8"
             },
             "line": {
              "color": "white"
             }
            },
            "header": {
             "fill": {
              "color": "#C8D4E3"
             },
             "line": {
              "color": "white"
             }
            },
            "type": "table"
           }
          ]
         },
         "layout": {
          "annotationdefaults": {
           "arrowcolor": "#2a3f5f",
           "arrowhead": 0,
           "arrowwidth": 1
          },
          "autotypenumbers": "strict",
          "coloraxis": {
           "colorbar": {
            "outlinewidth": 0,
            "ticks": ""
           }
          },
          "colorscale": {
           "diverging": [
            [
             0,
             "#8e0152"
            ],
            [
             0.1,
             "#c51b7d"
            ],
            [
             0.2,
             "#de77ae"
            ],
            [
             0.3,
             "#f1b6da"
            ],
            [
             0.4,
             "#fde0ef"
            ],
            [
             0.5,
             "#f7f7f7"
            ],
            [
             0.6,
             "#e6f5d0"
            ],
            [
             0.7,
             "#b8e186"
            ],
            [
             0.8,
             "#7fbc41"
            ],
            [
             0.9,
             "#4d9221"
            ],
            [
             1,
             "#276419"
            ]
           ],
           "sequential": [
            [
             0,
             "#0d0887"
            ],
            [
             0.1111111111111111,
             "#46039f"
            ],
            [
             0.2222222222222222,
             "#7201a8"
            ],
            [
             0.3333333333333333,
             "#9c179e"
            ],
            [
             0.4444444444444444,
             "#bd3786"
            ],
            [
             0.5555555555555556,
             "#d8576b"
            ],
            [
             0.6666666666666666,
             "#ed7953"
            ],
            [
             0.7777777777777778,
             "#fb9f3a"
            ],
            [
             0.8888888888888888,
             "#fdca26"
            ],
            [
             1,
             "#f0f921"
            ]
           ],
           "sequentialminus": [
            [
             0,
             "#0d0887"
            ],
            [
             0.1111111111111111,
             "#46039f"
            ],
            [
             0.2222222222222222,
             "#7201a8"
            ],
            [
             0.3333333333333333,
             "#9c179e"
            ],
            [
             0.4444444444444444,
             "#bd3786"
            ],
            [
             0.5555555555555556,
             "#d8576b"
            ],
            [
             0.6666666666666666,
             "#ed7953"
            ],
            [
             0.7777777777777778,
             "#fb9f3a"
            ],
            [
             0.8888888888888888,
             "#fdca26"
            ],
            [
             1,
             "#f0f921"
            ]
           ]
          },
          "colorway": [
           "#636efa",
           "#EF553B",
           "#00cc96",
           "#ab63fa",
           "#FFA15A",
           "#19d3f3",
           "#FF6692",
           "#B6E880",
           "#FF97FF",
           "#FECB52"
          ],
          "font": {
           "color": "#2a3f5f"
          },
          "geo": {
           "bgcolor": "white",
           "lakecolor": "white",
           "landcolor": "#E5ECF6",
           "showlakes": true,
           "showland": true,
           "subunitcolor": "white"
          },
          "hoverlabel": {
           "align": "left"
          },
          "hovermode": "closest",
          "mapbox": {
           "style": "light"
          },
          "paper_bgcolor": "white",
          "plot_bgcolor": "#E5ECF6",
          "polar": {
           "angularaxis": {
            "gridcolor": "white",
            "linecolor": "white",
            "ticks": ""
           },
           "bgcolor": "#E5ECF6",
           "radialaxis": {
            "gridcolor": "white",
            "linecolor": "white",
            "ticks": ""
           }
          },
          "scene": {
           "xaxis": {
            "backgroundcolor": "#E5ECF6",
            "gridcolor": "white",
            "gridwidth": 2,
            "linecolor": "white",
            "showbackground": true,
            "ticks": "",
            "zerolinecolor": "white"
           },
           "yaxis": {
            "backgroundcolor": "#E5ECF6",
            "gridcolor": "white",
            "gridwidth": 2,
            "linecolor": "white",
            "showbackground": true,
            "ticks": "",
            "zerolinecolor": "white"
           },
           "zaxis": {
            "backgroundcolor": "#E5ECF6",
            "gridcolor": "white",
            "gridwidth": 2,
            "linecolor": "white",
            "showbackground": true,
            "ticks": "",
            "zerolinecolor": "white"
           }
          },
          "shapedefaults": {
           "line": {
            "color": "#2a3f5f"
           }
          },
          "ternary": {
           "aaxis": {
            "gridcolor": "white",
            "linecolor": "white",
            "ticks": ""
           },
           "baxis": {
            "gridcolor": "white",
            "linecolor": "white",
            "ticks": ""
           },
           "bgcolor": "#E5ECF6",
           "caxis": {
            "gridcolor": "white",
            "linecolor": "white",
            "ticks": ""
           }
          },
          "title": {
           "x": 0.05
          },
          "xaxis": {
           "automargin": true,
           "gridcolor": "white",
           "linecolor": "white",
           "ticks": "",
           "title": {
            "standoff": 15
           },
           "zerolinecolor": "white",
           "zerolinewidth": 2
          },
          "yaxis": {
           "automargin": true,
           "gridcolor": "white",
           "linecolor": "white",
           "ticks": "",
           "title": {
            "standoff": 15
           },
           "zerolinecolor": "white",
           "zerolinewidth": 2
          }
         }
        }
       }
      }
     },
     "metadata": {},
     "output_type": "display_data"
    },
    {
     "name": "stdout",
     "output_type": "stream",
     "text": [
      "Matrix of orthonormal vectors : \n",
      " [[ 0.57735027 -0.70710678  0.40824829]\n",
      " [ 0.57735027  0.         -0.81649658]\n",
      " [ 0.57735027  0.70710678  0.40824829]]\n"
     ]
    },
    {
     "data": {
      "application/vnd.plotly.v1+json": {
       "config": {
        "plotlyServerURL": "https://plot.ly"
       },
       "data": [
        {
         "line": {
          "color": "blue",
          "width": 6
         },
         "mode": "lines",
         "type": "scatter3d",
         "x": [
          0,
          0.5773502691896258
         ],
         "y": [
          0,
          0.5773502691896258
         ],
         "z": [
          0,
          0.5773502691896258
         ]
        },
        {
         "line": {
          "color": "blue",
          "width": 6
         },
         "mode": "lines",
         "type": "scatter3d",
         "x": [
          0,
          -0.7071067811865475
         ],
         "y": [
          0,
          0
         ],
         "z": [
          0,
          0.7071067811865475
         ]
        },
        {
         "line": {
          "color": "blue",
          "width": 6
         },
         "mode": "lines",
         "type": "scatter3d",
         "x": [
          0,
          0.40824829046386263
         ],
         "y": [
          0,
          -0.8164965809277264
         ],
         "z": [
          0,
          0.40824829046386263
         ]
        }
       ],
       "layout": {
        "margin": {
         "b": 4,
         "l": 4,
         "r": 4,
         "t": 4
        },
        "template": {
         "data": {
          "bar": [
           {
            "error_x": {
             "color": "#2a3f5f"
            },
            "error_y": {
             "color": "#2a3f5f"
            },
            "marker": {
             "line": {
              "color": "#E5ECF6",
              "width": 0.5
             },
             "pattern": {
              "fillmode": "overlay",
              "size": 10,
              "solidity": 0.2
             }
            },
            "type": "bar"
           }
          ],
          "barpolar": [
           {
            "marker": {
             "line": {
              "color": "#E5ECF6",
              "width": 0.5
             },
             "pattern": {
              "fillmode": "overlay",
              "size": 10,
              "solidity": 0.2
             }
            },
            "type": "barpolar"
           }
          ],
          "carpet": [
           {
            "aaxis": {
             "endlinecolor": "#2a3f5f",
             "gridcolor": "white",
             "linecolor": "white",
             "minorgridcolor": "white",
             "startlinecolor": "#2a3f5f"
            },
            "baxis": {
             "endlinecolor": "#2a3f5f",
             "gridcolor": "white",
             "linecolor": "white",
             "minorgridcolor": "white",
             "startlinecolor": "#2a3f5f"
            },
            "type": "carpet"
           }
          ],
          "choropleth": [
           {
            "colorbar": {
             "outlinewidth": 0,
             "ticks": ""
            },
            "type": "choropleth"
           }
          ],
          "contour": [
           {
            "colorbar": {
             "outlinewidth": 0,
             "ticks": ""
            },
            "colorscale": [
             [
              0,
              "#0d0887"
             ],
             [
              0.1111111111111111,
              "#46039f"
             ],
             [
              0.2222222222222222,
              "#7201a8"
             ],
             [
              0.3333333333333333,
              "#9c179e"
             ],
             [
              0.4444444444444444,
              "#bd3786"
             ],
             [
              0.5555555555555556,
              "#d8576b"
             ],
             [
              0.6666666666666666,
              "#ed7953"
             ],
             [
              0.7777777777777778,
              "#fb9f3a"
             ],
             [
              0.8888888888888888,
              "#fdca26"
             ],
             [
              1,
              "#f0f921"
             ]
            ],
            "type": "contour"
           }
          ],
          "contourcarpet": [
           {
            "colorbar": {
             "outlinewidth": 0,
             "ticks": ""
            },
            "type": "contourcarpet"
           }
          ],
          "heatmap": [
           {
            "colorbar": {
             "outlinewidth": 0,
             "ticks": ""
            },
            "colorscale": [
             [
              0,
              "#0d0887"
             ],
             [
              0.1111111111111111,
              "#46039f"
             ],
             [
              0.2222222222222222,
              "#7201a8"
             ],
             [
              0.3333333333333333,
              "#9c179e"
             ],
             [
              0.4444444444444444,
              "#bd3786"
             ],
             [
              0.5555555555555556,
              "#d8576b"
             ],
             [
              0.6666666666666666,
              "#ed7953"
             ],
             [
              0.7777777777777778,
              "#fb9f3a"
             ],
             [
              0.8888888888888888,
              "#fdca26"
             ],
             [
              1,
              "#f0f921"
             ]
            ],
            "type": "heatmap"
           }
          ],
          "heatmapgl": [
           {
            "colorbar": {
             "outlinewidth": 0,
             "ticks": ""
            },
            "colorscale": [
             [
              0,
              "#0d0887"
             ],
             [
              0.1111111111111111,
              "#46039f"
             ],
             [
              0.2222222222222222,
              "#7201a8"
             ],
             [
              0.3333333333333333,
              "#9c179e"
             ],
             [
              0.4444444444444444,
              "#bd3786"
             ],
             [
              0.5555555555555556,
              "#d8576b"
             ],
             [
              0.6666666666666666,
              "#ed7953"
             ],
             [
              0.7777777777777778,
              "#fb9f3a"
             ],
             [
              0.8888888888888888,
              "#fdca26"
             ],
             [
              1,
              "#f0f921"
             ]
            ],
            "type": "heatmapgl"
           }
          ],
          "histogram": [
           {
            "marker": {
             "pattern": {
              "fillmode": "overlay",
              "size": 10,
              "solidity": 0.2
             }
            },
            "type": "histogram"
           }
          ],
          "histogram2d": [
           {
            "colorbar": {
             "outlinewidth": 0,
             "ticks": ""
            },
            "colorscale": [
             [
              0,
              "#0d0887"
             ],
             [
              0.1111111111111111,
              "#46039f"
             ],
             [
              0.2222222222222222,
              "#7201a8"
             ],
             [
              0.3333333333333333,
              "#9c179e"
             ],
             [
              0.4444444444444444,
              "#bd3786"
             ],
             [
              0.5555555555555556,
              "#d8576b"
             ],
             [
              0.6666666666666666,
              "#ed7953"
             ],
             [
              0.7777777777777778,
              "#fb9f3a"
             ],
             [
              0.8888888888888888,
              "#fdca26"
             ],
             [
              1,
              "#f0f921"
             ]
            ],
            "type": "histogram2d"
           }
          ],
          "histogram2dcontour": [
           {
            "colorbar": {
             "outlinewidth": 0,
             "ticks": ""
            },
            "colorscale": [
             [
              0,
              "#0d0887"
             ],
             [
              0.1111111111111111,
              "#46039f"
             ],
             [
              0.2222222222222222,
              "#7201a8"
             ],
             [
              0.3333333333333333,
              "#9c179e"
             ],
             [
              0.4444444444444444,
              "#bd3786"
             ],
             [
              0.5555555555555556,
              "#d8576b"
             ],
             [
              0.6666666666666666,
              "#ed7953"
             ],
             [
              0.7777777777777778,
              "#fb9f3a"
             ],
             [
              0.8888888888888888,
              "#fdca26"
             ],
             [
              1,
              "#f0f921"
             ]
            ],
            "type": "histogram2dcontour"
           }
          ],
          "mesh3d": [
           {
            "colorbar": {
             "outlinewidth": 0,
             "ticks": ""
            },
            "type": "mesh3d"
           }
          ],
          "parcoords": [
           {
            "line": {
             "colorbar": {
              "outlinewidth": 0,
              "ticks": ""
             }
            },
            "type": "parcoords"
           }
          ],
          "pie": [
           {
            "automargin": true,
            "type": "pie"
           }
          ],
          "scatter": [
           {
            "fillpattern": {
             "fillmode": "overlay",
             "size": 10,
             "solidity": 0.2
            },
            "type": "scatter"
           }
          ],
          "scatter3d": [
           {
            "line": {
             "colorbar": {
              "outlinewidth": 0,
              "ticks": ""
             }
            },
            "marker": {
             "colorbar": {
              "outlinewidth": 0,
              "ticks": ""
             }
            },
            "type": "scatter3d"
           }
          ],
          "scattercarpet": [
           {
            "marker": {
             "colorbar": {
              "outlinewidth": 0,
              "ticks": ""
             }
            },
            "type": "scattercarpet"
           }
          ],
          "scattergeo": [
           {
            "marker": {
             "colorbar": {
              "outlinewidth": 0,
              "ticks": ""
             }
            },
            "type": "scattergeo"
           }
          ],
          "scattergl": [
           {
            "marker": {
             "colorbar": {
              "outlinewidth": 0,
              "ticks": ""
             }
            },
            "type": "scattergl"
           }
          ],
          "scattermapbox": [
           {
            "marker": {
             "colorbar": {
              "outlinewidth": 0,
              "ticks": ""
             }
            },
            "type": "scattermapbox"
           }
          ],
          "scatterpolar": [
           {
            "marker": {
             "colorbar": {
              "outlinewidth": 0,
              "ticks": ""
             }
            },
            "type": "scatterpolar"
           }
          ],
          "scatterpolargl": [
           {
            "marker": {
             "colorbar": {
              "outlinewidth": 0,
              "ticks": ""
             }
            },
            "type": "scatterpolargl"
           }
          ],
          "scatterternary": [
           {
            "marker": {
             "colorbar": {
              "outlinewidth": 0,
              "ticks": ""
             }
            },
            "type": "scatterternary"
           }
          ],
          "surface": [
           {
            "colorbar": {
             "outlinewidth": 0,
             "ticks": ""
            },
            "colorscale": [
             [
              0,
              "#0d0887"
             ],
             [
              0.1111111111111111,
              "#46039f"
             ],
             [
              0.2222222222222222,
              "#7201a8"
             ],
             [
              0.3333333333333333,
              "#9c179e"
             ],
             [
              0.4444444444444444,
              "#bd3786"
             ],
             [
              0.5555555555555556,
              "#d8576b"
             ],
             [
              0.6666666666666666,
              "#ed7953"
             ],
             [
              0.7777777777777778,
              "#fb9f3a"
             ],
             [
              0.8888888888888888,
              "#fdca26"
             ],
             [
              1,
              "#f0f921"
             ]
            ],
            "type": "surface"
           }
          ],
          "table": [
           {
            "cells": {
             "fill": {
              "color": "#EBF0F8"
             },
             "line": {
              "color": "white"
             }
            },
            "header": {
             "fill": {
              "color": "#C8D4E3"
             },
             "line": {
              "color": "white"
             }
            },
            "type": "table"
           }
          ]
         },
         "layout": {
          "annotationdefaults": {
           "arrowcolor": "#2a3f5f",
           "arrowhead": 0,
           "arrowwidth": 1
          },
          "autotypenumbers": "strict",
          "coloraxis": {
           "colorbar": {
            "outlinewidth": 0,
            "ticks": ""
           }
          },
          "colorscale": {
           "diverging": [
            [
             0,
             "#8e0152"
            ],
            [
             0.1,
             "#c51b7d"
            ],
            [
             0.2,
             "#de77ae"
            ],
            [
             0.3,
             "#f1b6da"
            ],
            [
             0.4,
             "#fde0ef"
            ],
            [
             0.5,
             "#f7f7f7"
            ],
            [
             0.6,
             "#e6f5d0"
            ],
            [
             0.7,
             "#b8e186"
            ],
            [
             0.8,
             "#7fbc41"
            ],
            [
             0.9,
             "#4d9221"
            ],
            [
             1,
             "#276419"
            ]
           ],
           "sequential": [
            [
             0,
             "#0d0887"
            ],
            [
             0.1111111111111111,
             "#46039f"
            ],
            [
             0.2222222222222222,
             "#7201a8"
            ],
            [
             0.3333333333333333,
             "#9c179e"
            ],
            [
             0.4444444444444444,
             "#bd3786"
            ],
            [
             0.5555555555555556,
             "#d8576b"
            ],
            [
             0.6666666666666666,
             "#ed7953"
            ],
            [
             0.7777777777777778,
             "#fb9f3a"
            ],
            [
             0.8888888888888888,
             "#fdca26"
            ],
            [
             1,
             "#f0f921"
            ]
           ],
           "sequentialminus": [
            [
             0,
             "#0d0887"
            ],
            [
             0.1111111111111111,
             "#46039f"
            ],
            [
             0.2222222222222222,
             "#7201a8"
            ],
            [
             0.3333333333333333,
             "#9c179e"
            ],
            [
             0.4444444444444444,
             "#bd3786"
            ],
            [
             0.5555555555555556,
             "#d8576b"
            ],
            [
             0.6666666666666666,
             "#ed7953"
            ],
            [
             0.7777777777777778,
             "#fb9f3a"
            ],
            [
             0.8888888888888888,
             "#fdca26"
            ],
            [
             1,
             "#f0f921"
            ]
           ]
          },
          "colorway": [
           "#636efa",
           "#EF553B",
           "#00cc96",
           "#ab63fa",
           "#FFA15A",
           "#19d3f3",
           "#FF6692",
           "#B6E880",
           "#FF97FF",
           "#FECB52"
          ],
          "font": {
           "color": "#2a3f5f"
          },
          "geo": {
           "bgcolor": "white",
           "lakecolor": "white",
           "landcolor": "#E5ECF6",
           "showlakes": true,
           "showland": true,
           "subunitcolor": "white"
          },
          "hoverlabel": {
           "align": "left"
          },
          "hovermode": "closest",
          "mapbox": {
           "style": "light"
          },
          "paper_bgcolor": "white",
          "plot_bgcolor": "#E5ECF6",
          "polar": {
           "angularaxis": {
            "gridcolor": "white",
            "linecolor": "white",
            "ticks": ""
           },
           "bgcolor": "#E5ECF6",
           "radialaxis": {
            "gridcolor": "white",
            "linecolor": "white",
            "ticks": ""
           }
          },
          "scene": {
           "xaxis": {
            "backgroundcolor": "#E5ECF6",
            "gridcolor": "white",
            "gridwidth": 2,
            "linecolor": "white",
            "showbackground": true,
            "ticks": "",
            "zerolinecolor": "white"
           },
           "yaxis": {
            "backgroundcolor": "#E5ECF6",
            "gridcolor": "white",
            "gridwidth": 2,
            "linecolor": "white",
            "showbackground": true,
            "ticks": "",
            "zerolinecolor": "white"
           },
           "zaxis": {
            "backgroundcolor": "#E5ECF6",
            "gridcolor": "white",
            "gridwidth": 2,
            "linecolor": "white",
            "showbackground": true,
            "ticks": "",
            "zerolinecolor": "white"
           }
          },
          "shapedefaults": {
           "line": {
            "color": "#2a3f5f"
           }
          },
          "ternary": {
           "aaxis": {
            "gridcolor": "white",
            "linecolor": "white",
            "ticks": ""
           },
           "baxis": {
            "gridcolor": "white",
            "linecolor": "white",
            "ticks": ""
           },
           "bgcolor": "#E5ECF6",
           "caxis": {
            "gridcolor": "white",
            "linecolor": "white",
            "ticks": ""
           }
          },
          "title": {
           "x": 0.05
          },
          "xaxis": {
           "automargin": true,
           "gridcolor": "white",
           "linecolor": "white",
           "ticks": "",
           "title": {
            "standoff": 15
           },
           "zerolinecolor": "white",
           "zerolinewidth": 2
          },
          "yaxis": {
           "automargin": true,
           "gridcolor": "white",
           "linecolor": "white",
           "ticks": "",
           "title": {
            "standoff": 15
           },
           "zerolinecolor": "white",
           "zerolinewidth": 2
          }
         }
        }
       }
      }
     },
     "metadata": {},
     "output_type": "display_data"
    }
   ],
   "source": [
    "A = [[1, -1, 1], [1, 0, 1], [1, 1, 2]]\n",
    "\n",
    "print(\"Plot of inital vectors\\n\")\n",
    "vector_plot(A)\n",
    "\n",
    "B = gram_schmidt(np.array(A))\n",
    "print(\"Matrix of orthonormal vectors : \\n\", B)\n",
    "vector_plot(B)"
   ]
  },
  {
   "cell_type": "markdown",
   "metadata": {},
   "source": [
    "# Q3: Change of Basis (40 Points)"
   ]
  },
  {
   "cell_type": "markdown",
   "metadata": {},
   "source": [
    "Consider vector $v_a$ in basis $a_1, a_2, \\cdots, a_n \\in \\mathbb{R}^n$, We want to find its representation $v_b$ in basis $b_1, b_2, \\cdots, b_n \\in \\mathbb{R}^n$. $A$ is a $n\\times n$ matrix with columns $a_1, a_2, \\cdots, a_n$, $B$ is a matrix with columns $b_1, b_2, \\cdots, b_n$ and we have the following relation between them: $$Av_a = Bv_b$$\n",
    "By knowing the above equation, Implement a function which takes representation of a $v_a$ in basis $A$ and returns its representation in basis $B$."
   ]
  },
  {
   "cell_type": "code",
   "execution_count": 61,
   "metadata": {},
   "outputs": [],
   "source": [
    "def invert_matrix(matrix):\n",
    "    \"\"\"\n",
    "    Invert an n x n matrix using Gauss-Jordan elimination.\n",
    "    \"\"\"\n",
    "    n = matrix.shape[0]\n",
    "    augmented_matrix = np.hstack([matrix, np.eye(n)])\n",
    "    for i in range(n):\n",
    "        # Find pivot row\n",
    "        pivot_row = i\n",
    "        for j in range(i + 1, n):\n",
    "            if abs(augmented_matrix[j, i]) > abs(augmented_matrix[pivot_row, i]):\n",
    "                pivot_row = j\n",
    "        # Swap rows\n",
    "        augmented_matrix[[i, pivot_row]] = augmented_matrix[[pivot_row, i]]\n",
    "        # Scale pivot row\n",
    "        augmented_matrix[i] /= augmented_matrix[i, i]\n",
    "        # Eliminate other rows\n",
    "        for j in range(n):\n",
    "            if i != j:\n",
    "                augmented_matrix[j] -= augmented_matrix[i] * augmented_matrix[j, i]\n",
    "    return augmented_matrix[:, n:] # Reversed Matrix\n",
    "\n",
    "\n",
    "def basis_change(va, A, B):\n",
    "    \"\"\"\n",
    "    va: vector in basis a_1, ..., a_n.\n",
    "    A: basis matrix of vector va.\n",
    "    B: new basis matrix.\n",
    "    output: representation of vector va in new basis b_1, ..., b_n.\n",
    "    \"\"\"\n",
    "    va_in_standard = A @ va\n",
    "    B_inv = invert_matrix(B)\n",
    "    va_in_new_basis = np.dot(B_inv, va_in_standard)\n",
    "    return va_in_new_basis"
   ]
  },
  {
   "cell_type": "markdown",
   "metadata": {},
   "source": [
    "Use the below block to test your code."
   ]
  },
  {
   "cell_type": "code",
   "execution_count": 63,
   "metadata": {},
   "outputs": [
    {
     "name": "stdout",
     "output_type": "stream",
     "text": [
      "test 1: \n",
      "\u001b[32mPassed!\u001b[0m\n",
      "---------------\n",
      "test 2: \n",
      "\u001b[32mPassed!\u001b[0m\n",
      "---------------\n",
      "test 3: \n",
      "\u001b[32mPassed!\u001b[0m\n",
      "---------------\n",
      "test 4: \n",
      "\u001b[32mPassed!\u001b[0m\n",
      "---------------\n",
      "test 5: \n",
      "\u001b[32mPassed!\u001b[0m\n",
      "---------------\n",
      "test 6: \n",
      "\u001b[32mPassed!\u001b[0m\n",
      "---------------\n"
     ]
    }
   ],
   "source": [
    "for s in range(1, 7):\n",
    "    i = 3 ** s\n",
    "    nA, mA = 3 ** s, 3 ** s\n",
    "    nB, mB = 3 ** s, 3 ** s\n",
    "    va = tester.vector_generator(i, 100)\n",
    "    A = tester.matrix_generator(nA, mA, 10)\n",
    "    B = tester.matrix_generator(nB, mB, 10)\n",
    "\n",
    "    vb = basis_change(va, A, B)\n",
    "\n",
    "    print(\"test \" + str(s) + \": \")\n",
    "    tester.change_of_basis_test(va, vb, A, B)"
   ]
  },
  {
   "cell_type": "markdown",
   "metadata": {},
   "source": [
    "Now we want to visualize our vectors. Implement a funciton which its input is a set of vectors and it draws the vectors in gridline using matplotlib. Vectors must be shown as arrows and your grid should be like the grids shown below. [This matplotlib function](https://matplotlib.org/stable/api/_as_gen/matplotlib.axes.Axes.quiver.html) may be useful in your implementation.\n"
   ]
  },
  {
   "cell_type": "code",
   "execution_count": 125,
   "metadata": {},
   "outputs": [],
   "source": [
    "def plot_vectors(vectors):\n",
    "    \"\"\"\n",
    "    vectors: list of vectors to plot.\n",
    "    output: a gridline in which vectors are drawn as arrows.\n",
    "    \"\"\"\n",
    "    xs = [vector[0] for vector in vectors]\n",
    "    ys = [vector[1] for vector in vectors]\n",
    "    max_value = max(max(xs), max(ys), abs(min(xs)), abs(min(ys))) \n",
    "\n",
    "    scale = max_value * 1.2\n",
    "\n",
    "    fig, ax = plt.subplots(figsize=(4, 3))\n",
    "    ax.set_xlim(-scale, scale)\n",
    "    ax.set_ylim(-scale, scale)\n",
    "    ax.grid(True, which='both', linestyle='--')\n",
    "    for vector in vectors:\n",
    "        x, y = vector\n",
    "        ax.arrow(0, 0, x, y, head_width=0.05*scale,head_length=0.1*scale, fc='blue', ec='blue')\n",
    "    plt.show()"
   ]
  },
  {
   "cell_type": "markdown",
   "metadata": {},
   "source": [
    "Lets visualise two vector sets. these vectors are in standard basis."
   ]
  },
  {
   "cell_type": "code",
   "execution_count": 126,
   "metadata": {},
   "outputs": [
    {
     "data": {
      "image/png": "[encoded data removed]",
      "text/plain": [
       "<Figure size 400x300 with 1 Axes>"
      ]
     },
     "metadata": {},
     "output_type": "display_data"
    },
    {
     "data": {
      "image/png": "[encoded data removed]",
      "text/plain": [
       "<Figure size 400x300 with 1 Axes>"
      ]
     },
     "metadata": {},
     "output_type": "display_data"
    }
   ],
   "source": [
    "v1 = np.array([2, 0])\n",
    "v2 = np.array([0, 1])\n",
    "v3 = np.array([2, 1])\n",
    "vectors1 = [v1, v2, v3]\n",
    "\n",
    "alpha = np.linspace(0, 2 * np.pi, 41)\n",
    "vectors2 = list(zip(np.cos(alpha), np.sin(alpha)))\n",
    "\n",
    "plot_vectors(vectors1)\n",
    "plot_vectors(vectors2)"
   ]
  },
  {
   "cell_type": "markdown",
   "metadata": {},
   "source": [
    "Change the basis of vector set 1 and 2 to basis $B_1$ and $B_2$ then visualize their representation in new basis."
   ]
  },
  {
   "cell_type": "code",
   "execution_count": 127,
   "metadata": {},
   "outputs": [],
   "source": [
    "B1 = np.array([[1, 1], [1, -1]])\n",
    "B2 = np.array([[2, 1], [1, 2]]) / 2"
   ]
  },
  {
   "cell_type": "code",
   "execution_count": 128,
   "metadata": {},
   "outputs": [
    {
     "data": {
      "image/png": "[encoded data removed]",
      "text/plain": [
       "<Figure size 400x300 with 1 Axes>"
      ]
     },
     "metadata": {},
     "output_type": "display_data"
    },
    {
     "data": {
      "image/png": "[encoded data removed]",
      "text/plain": [
       "<Figure size 400x300 with 1 Axes>"
      ]
     },
     "metadata": {},
     "output_type": "display_data"
    }
   ],
   "source": [
    "plot_vectors([basis_change(v, np.array([[1, 0], [0, 1]]), B1) for v in vectors1])\n",
    "plot_vectors([basis_change(v, np.array([[1, 0],[0,1]]), B2) for v in vectors2])"
   ]
  }
 ],
 "metadata": {
  "kernelspec": {
   "display_name": "Python 3",
   "language": "python",
   "name": "python3"
  },
  "language_info": {
   "codemirror_mode": {
    "name": "ipython",
    "version": 3
   },
   "file_extension": ".py",
   "mimetype": "text/x-python",
   "name": "python",
   "nbconvert_exporter": "python",
   "pygments_lexer": "ipython3",
   "version": "3.11.7"
  }
 },
 "nbformat": 4,
 "nbformat_minor": 2
}
