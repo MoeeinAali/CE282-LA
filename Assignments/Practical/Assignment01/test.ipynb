{
 "cells": [
  {
   "cell_type": "markdown",
   "source": [],
   "metadata": {
    "collapsed": false
   },
   "id": "aacf83fc80b1e283"
  },
  {
   "cell_type": "code",
   "outputs": [
    {
     "data": {
      "text/plain": "[0, 1, 2, 3, 4, 5, 6, 7, 8, 9]"
     },
     "execution_count": 22,
     "metadata": {},
     "output_type": "execute_result"
    }
   ],
   "source": [
    "import numpy as np\n",
    "\n",
    "mylist = []\n",
    "for i in range(10):\n",
    "    mylist += [i]\n",
    "mylist"
   ],
   "metadata": {
    "collapsed": false,
    "ExecuteTime": {
     "end_time": "2024-04-18T09:01:34.746478Z",
     "start_time": "2024-04-18T09:01:34.521087Z"
    }
   },
   "id": "30dafb3d06a67949",
   "execution_count": 22
  },
  {
   "cell_type": "code",
   "outputs": [
    {
     "data": {
      "text/plain": "[1, 2, 3]"
     },
     "execution_count": 13,
     "metadata": {},
     "output_type": "execute_result"
    }
   ],
   "source": [
    "mylist = []\n",
    "for i in range(3):\n",
    "    mylist.append(int(input()))\n",
    "mylist"
   ],
   "metadata": {
    "collapsed": false,
    "ExecuteTime": {
     "end_time": "2024-04-18T08:53:40.979383Z",
     "start_time": "2024-04-18T08:53:39.202599Z"
    }
   },
   "id": "1181af17af18dec7",
   "execution_count": 13
  },
  {
   "cell_type": "code",
   "outputs": [
    {
     "data": {
      "text/plain": "[1, 2, 3]"
     },
     "execution_count": 15,
     "metadata": {},
     "output_type": "execute_result"
    }
   ],
   "source": [
    "mylist = []\n",
    "for _ in range(3):\n",
    "    mylist.append(int(input()))\n",
    "mylist"
   ],
   "metadata": {
    "collapsed": false,
    "ExecuteTime": {
     "end_time": "2024-04-18T08:58:42.798647Z",
     "start_time": "2024-04-18T08:58:40.869452Z"
    }
   },
   "id": "c2594c21dd2dca",
   "execution_count": 15
  },
  {
   "cell_type": "code",
   "outputs": [
    {
     "data": {
      "text/plain": "['1', '2', '3']"
     },
     "execution_count": 17,
     "metadata": {},
     "output_type": "execute_result"
    }
   ],
   "source": [
    "mylist = [input() for i in range(3)]\n",
    "mylist"
   ],
   "metadata": {
    "collapsed": false,
    "ExecuteTime": {
     "end_time": "2024-04-18T08:59:17.527108Z",
     "start_time": "2024-04-18T08:59:16.192032Z"
    }
   },
   "id": "c80335ed7b4f5983",
   "execution_count": 17
  },
  {
   "cell_type": "code",
   "outputs": [
    {
     "data": {
      "text/plain": "[array([1, 2, 3]), array([1, 2, 3]), array([1, 2, 3])]"
     },
     "execution_count": 35,
     "metadata": {},
     "output_type": "execute_result"
    }
   ],
   "source": [
    "mylist = [np.array(list(map(int, input().split()))) for _ in range(3)]\n",
    "mylist"
   ],
   "metadata": {
    "collapsed": false,
    "ExecuteTime": {
     "end_time": "2024-04-18T09:04:40.919813Z",
     "start_time": "2024-04-18T09:04:36.729395Z"
    }
   },
   "id": "1c4e954f73677c86",
   "execution_count": 35
  },
  {
   "cell_type": "code",
   "outputs": [
    {
     "data": {
      "text/plain": "[array([10, 10, 10]), array([20, 20, 20]), array([30, 30, 30])]"
     },
     "execution_count": 38,
     "metadata": {},
     "output_type": "execute_result"
    }
   ],
   "source": [
    "#TODO: get the number m\n",
    "m = int(input())\n",
    "#TODO: get m vectors\n",
    "vectors = [np.array(list(map(int, input().split()))) for _ in range(m)]\n",
    "#TODO: get the vector v\n",
    "v = np.array(list(map(int, input().split())))"
   ],
   "metadata": {
    "collapsed": false,
    "ExecuteTime": {
     "end_time": "2024-04-18T09:06:24.191803Z",
     "start_time": "2024-04-18T09:06:19.204450Z"
    }
   },
   "id": "f14a0ff08e303baa",
   "execution_count": 38
  }
 ],
 "metadata": {
  "kernelspec": {
   "display_name": "Python 3",
   "language": "python",
   "name": "python3"
  },
  "language_info": {
   "codemirror_mode": {
    "name": "ipython",
    "version": 2
   },
   "file_extension": ".py",
   "mimetype": "text/x-python",
   "name": "python",
   "nbconvert_exporter": "python",
   "pygments_lexer": "ipython2",
   "version": "2.7.6"
  }
 },
 "nbformat": 4,
 "nbformat_minor": 5
}
